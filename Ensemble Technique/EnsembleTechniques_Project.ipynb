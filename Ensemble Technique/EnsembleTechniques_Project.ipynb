{
 "cells": [
  {
   "cell_type": "markdown",
   "metadata": {},
   "source": [
    "# Importing all required libraries"
   ]
  },
  {
   "cell_type": "code",
   "execution_count": 1,
   "metadata": {},
   "outputs": [],
   "source": [
    "\n",
    "#For numerical libraries\n",
    "import numpy as np\n",
    "\n",
    "#To handle data in the form of rows and columns\n",
    "import pandas as pd\n",
    "\n",
    "#importing seaborn for statistical plots\n",
    "import seaborn as sns\n",
    "\n",
    "#importing ploting libraries\n",
    "import matplotlib.pyplot as plt\n",
    "\n",
    "#styling figures\n",
    "plt.rc('font',size=14)\n",
    "sns.set(style='white')\n",
    "sns.set(style='whitegrid',color_codes=True)\n",
    "\n",
    "#To enable plotting graphs in Jupyter notebook\n",
    "%matplotlib inline\n",
    "\n",
    "#importing the Encoding library\n",
    "from sklearn.preprocessing import LabelEncoder\n",
    "\n",
    "#Import SMOTE library for handling imbalance class\n",
    "#from imblearn.over_sampling import SMOTE\n",
    "\n",
    "#Import Decision Tree Classifier machine learning Library\n",
    "from sklearn.tree import DecisionTreeClassifier\n",
    "\n",
    "# Import Logistic Regression machine learning library\n",
    "from sklearn.linear_model import LogisticRegression \n",
    "\n",
    "#Import Naive Bayes' machine learning Library\n",
    "from sklearn.naive_bayes import GaussianNB\n",
    "\n",
    "#Import Sklearn package's data splitting function which is based on random function\n",
    "from sklearn.model_selection import train_test_split\n",
    "\n",
    "#Import the metrics\n",
    "from sklearn import metrics\n",
    "\n",
    "#Import the Voting classifier for Ensemble\n",
    "from sklearn.ensemble import VotingClassifier"
   ]
  },
  {
   "cell_type": "markdown",
   "metadata": {},
   "source": [
    "# Load the dataset"
   ]
  },
  {
   "cell_type": "code",
   "execution_count": 2,
   "metadata": {},
   "outputs": [
    {
     "data": {
      "text/html": [
       "<div>\n",
       "<style scoped>\n",
       "    .dataframe tbody tr th:only-of-type {\n",
       "        vertical-align: middle;\n",
       "    }\n",
       "\n",
       "    .dataframe tbody tr th {\n",
       "        vertical-align: top;\n",
       "    }\n",
       "\n",
       "    .dataframe thead th {\n",
       "        text-align: right;\n",
       "    }\n",
       "</style>\n",
       "<table border=\"1\" class=\"dataframe\">\n",
       "  <thead>\n",
       "    <tr style=\"text-align: right;\">\n",
       "      <th></th>\n",
       "      <th>age</th>\n",
       "      <th>job</th>\n",
       "      <th>marital</th>\n",
       "      <th>education</th>\n",
       "      <th>default</th>\n",
       "      <th>balance</th>\n",
       "      <th>housing</th>\n",
       "      <th>loan</th>\n",
       "      <th>contact</th>\n",
       "      <th>day</th>\n",
       "      <th>month</th>\n",
       "      <th>duration</th>\n",
       "      <th>campaign</th>\n",
       "      <th>pdays</th>\n",
       "      <th>previous</th>\n",
       "      <th>poutcome</th>\n",
       "      <th>Target</th>\n",
       "    </tr>\n",
       "  </thead>\n",
       "  <tbody>\n",
       "    <tr>\n",
       "      <th>0</th>\n",
       "      <td>58</td>\n",
       "      <td>management</td>\n",
       "      <td>married</td>\n",
       "      <td>tertiary</td>\n",
       "      <td>no</td>\n",
       "      <td>2143</td>\n",
       "      <td>yes</td>\n",
       "      <td>no</td>\n",
       "      <td>unknown</td>\n",
       "      <td>5</td>\n",
       "      <td>may</td>\n",
       "      <td>261</td>\n",
       "      <td>1</td>\n",
       "      <td>-1</td>\n",
       "      <td>0</td>\n",
       "      <td>unknown</td>\n",
       "      <td>no</td>\n",
       "    </tr>\n",
       "    <tr>\n",
       "      <th>1</th>\n",
       "      <td>44</td>\n",
       "      <td>technician</td>\n",
       "      <td>single</td>\n",
       "      <td>secondary</td>\n",
       "      <td>no</td>\n",
       "      <td>29</td>\n",
       "      <td>yes</td>\n",
       "      <td>no</td>\n",
       "      <td>unknown</td>\n",
       "      <td>5</td>\n",
       "      <td>may</td>\n",
       "      <td>151</td>\n",
       "      <td>1</td>\n",
       "      <td>-1</td>\n",
       "      <td>0</td>\n",
       "      <td>unknown</td>\n",
       "      <td>no</td>\n",
       "    </tr>\n",
       "    <tr>\n",
       "      <th>2</th>\n",
       "      <td>33</td>\n",
       "      <td>entrepreneur</td>\n",
       "      <td>married</td>\n",
       "      <td>secondary</td>\n",
       "      <td>no</td>\n",
       "      <td>2</td>\n",
       "      <td>yes</td>\n",
       "      <td>yes</td>\n",
       "      <td>unknown</td>\n",
       "      <td>5</td>\n",
       "      <td>may</td>\n",
       "      <td>76</td>\n",
       "      <td>1</td>\n",
       "      <td>-1</td>\n",
       "      <td>0</td>\n",
       "      <td>unknown</td>\n",
       "      <td>no</td>\n",
       "    </tr>\n",
       "    <tr>\n",
       "      <th>3</th>\n",
       "      <td>47</td>\n",
       "      <td>blue-collar</td>\n",
       "      <td>married</td>\n",
       "      <td>unknown</td>\n",
       "      <td>no</td>\n",
       "      <td>1506</td>\n",
       "      <td>yes</td>\n",
       "      <td>no</td>\n",
       "      <td>unknown</td>\n",
       "      <td>5</td>\n",
       "      <td>may</td>\n",
       "      <td>92</td>\n",
       "      <td>1</td>\n",
       "      <td>-1</td>\n",
       "      <td>0</td>\n",
       "      <td>unknown</td>\n",
       "      <td>no</td>\n",
       "    </tr>\n",
       "    <tr>\n",
       "      <th>4</th>\n",
       "      <td>33</td>\n",
       "      <td>unknown</td>\n",
       "      <td>single</td>\n",
       "      <td>unknown</td>\n",
       "      <td>no</td>\n",
       "      <td>1</td>\n",
       "      <td>no</td>\n",
       "      <td>no</td>\n",
       "      <td>unknown</td>\n",
       "      <td>5</td>\n",
       "      <td>may</td>\n",
       "      <td>198</td>\n",
       "      <td>1</td>\n",
       "      <td>-1</td>\n",
       "      <td>0</td>\n",
       "      <td>unknown</td>\n",
       "      <td>no</td>\n",
       "    </tr>\n",
       "    <tr>\n",
       "      <th>5</th>\n",
       "      <td>35</td>\n",
       "      <td>management</td>\n",
       "      <td>married</td>\n",
       "      <td>tertiary</td>\n",
       "      <td>no</td>\n",
       "      <td>231</td>\n",
       "      <td>yes</td>\n",
       "      <td>no</td>\n",
       "      <td>unknown</td>\n",
       "      <td>5</td>\n",
       "      <td>may</td>\n",
       "      <td>139</td>\n",
       "      <td>1</td>\n",
       "      <td>-1</td>\n",
       "      <td>0</td>\n",
       "      <td>unknown</td>\n",
       "      <td>no</td>\n",
       "    </tr>\n",
       "    <tr>\n",
       "      <th>6</th>\n",
       "      <td>28</td>\n",
       "      <td>management</td>\n",
       "      <td>single</td>\n",
       "      <td>tertiary</td>\n",
       "      <td>no</td>\n",
       "      <td>447</td>\n",
       "      <td>yes</td>\n",
       "      <td>yes</td>\n",
       "      <td>unknown</td>\n",
       "      <td>5</td>\n",
       "      <td>may</td>\n",
       "      <td>217</td>\n",
       "      <td>1</td>\n",
       "      <td>-1</td>\n",
       "      <td>0</td>\n",
       "      <td>unknown</td>\n",
       "      <td>no</td>\n",
       "    </tr>\n",
       "    <tr>\n",
       "      <th>7</th>\n",
       "      <td>42</td>\n",
       "      <td>entrepreneur</td>\n",
       "      <td>divorced</td>\n",
       "      <td>tertiary</td>\n",
       "      <td>yes</td>\n",
       "      <td>2</td>\n",
       "      <td>yes</td>\n",
       "      <td>no</td>\n",
       "      <td>unknown</td>\n",
       "      <td>5</td>\n",
       "      <td>may</td>\n",
       "      <td>380</td>\n",
       "      <td>1</td>\n",
       "      <td>-1</td>\n",
       "      <td>0</td>\n",
       "      <td>unknown</td>\n",
       "      <td>no</td>\n",
       "    </tr>\n",
       "    <tr>\n",
       "      <th>8</th>\n",
       "      <td>58</td>\n",
       "      <td>retired</td>\n",
       "      <td>married</td>\n",
       "      <td>primary</td>\n",
       "      <td>no</td>\n",
       "      <td>121</td>\n",
       "      <td>yes</td>\n",
       "      <td>no</td>\n",
       "      <td>unknown</td>\n",
       "      <td>5</td>\n",
       "      <td>may</td>\n",
       "      <td>50</td>\n",
       "      <td>1</td>\n",
       "      <td>-1</td>\n",
       "      <td>0</td>\n",
       "      <td>unknown</td>\n",
       "      <td>no</td>\n",
       "    </tr>\n",
       "    <tr>\n",
       "      <th>9</th>\n",
       "      <td>43</td>\n",
       "      <td>technician</td>\n",
       "      <td>single</td>\n",
       "      <td>secondary</td>\n",
       "      <td>no</td>\n",
       "      <td>593</td>\n",
       "      <td>yes</td>\n",
       "      <td>no</td>\n",
       "      <td>unknown</td>\n",
       "      <td>5</td>\n",
       "      <td>may</td>\n",
       "      <td>55</td>\n",
       "      <td>1</td>\n",
       "      <td>-1</td>\n",
       "      <td>0</td>\n",
       "      <td>unknown</td>\n",
       "      <td>no</td>\n",
       "    </tr>\n",
       "  </tbody>\n",
       "</table>\n",
       "</div>"
      ],
      "text/plain": [
       "   age           job   marital  education default  balance housing loan  \\\n",
       "0   58    management   married   tertiary      no     2143     yes   no   \n",
       "1   44    technician    single  secondary      no       29     yes   no   \n",
       "2   33  entrepreneur   married  secondary      no        2     yes  yes   \n",
       "3   47   blue-collar   married    unknown      no     1506     yes   no   \n",
       "4   33       unknown    single    unknown      no        1      no   no   \n",
       "5   35    management   married   tertiary      no      231     yes   no   \n",
       "6   28    management    single   tertiary      no      447     yes  yes   \n",
       "7   42  entrepreneur  divorced   tertiary     yes        2     yes   no   \n",
       "8   58       retired   married    primary      no      121     yes   no   \n",
       "9   43    technician    single  secondary      no      593     yes   no   \n",
       "\n",
       "   contact  day month  duration  campaign  pdays  previous poutcome Target  \n",
       "0  unknown    5   may       261         1     -1         0  unknown     no  \n",
       "1  unknown    5   may       151         1     -1         0  unknown     no  \n",
       "2  unknown    5   may        76         1     -1         0  unknown     no  \n",
       "3  unknown    5   may        92         1     -1         0  unknown     no  \n",
       "4  unknown    5   may       198         1     -1         0  unknown     no  \n",
       "5  unknown    5   may       139         1     -1         0  unknown     no  \n",
       "6  unknown    5   may       217         1     -1         0  unknown     no  \n",
       "7  unknown    5   may       380         1     -1         0  unknown     no  \n",
       "8  unknown    5   may        50         1     -1         0  unknown     no  \n",
       "9  unknown    5   may        55         1     -1         0  unknown     no  "
      ]
     },
     "execution_count": 2,
     "metadata": {},
     "output_type": "execute_result"
    }
   ],
   "source": [
    "bank_data= pd.read_csv(\"bank-full.csv\")\n",
    "bank_data.head(10)"
   ]
  },
  {
   "cell_type": "code",
   "execution_count": 3,
   "metadata": {
    "scrolled": true
   },
   "outputs": [
    {
     "data": {
      "text/html": [
       "<div>\n",
       "<style scoped>\n",
       "    .dataframe tbody tr th:only-of-type {\n",
       "        vertical-align: middle;\n",
       "    }\n",
       "\n",
       "    .dataframe tbody tr th {\n",
       "        vertical-align: top;\n",
       "    }\n",
       "\n",
       "    .dataframe thead th {\n",
       "        text-align: right;\n",
       "    }\n",
       "</style>\n",
       "<table border=\"1\" class=\"dataframe\">\n",
       "  <thead>\n",
       "    <tr style=\"text-align: right;\">\n",
       "      <th></th>\n",
       "      <th>age</th>\n",
       "      <th>job</th>\n",
       "      <th>marital</th>\n",
       "      <th>education</th>\n",
       "      <th>default</th>\n",
       "      <th>balance</th>\n",
       "      <th>housing</th>\n",
       "      <th>loan</th>\n",
       "      <th>contact</th>\n",
       "      <th>day</th>\n",
       "      <th>month</th>\n",
       "      <th>duration</th>\n",
       "      <th>campaign</th>\n",
       "      <th>pdays</th>\n",
       "      <th>previous</th>\n",
       "      <th>poutcome</th>\n",
       "      <th>Target</th>\n",
       "    </tr>\n",
       "  </thead>\n",
       "  <tbody>\n",
       "    <tr>\n",
       "      <th>45201</th>\n",
       "      <td>53</td>\n",
       "      <td>management</td>\n",
       "      <td>married</td>\n",
       "      <td>tertiary</td>\n",
       "      <td>no</td>\n",
       "      <td>583</td>\n",
       "      <td>no</td>\n",
       "      <td>no</td>\n",
       "      <td>cellular</td>\n",
       "      <td>17</td>\n",
       "      <td>nov</td>\n",
       "      <td>226</td>\n",
       "      <td>1</td>\n",
       "      <td>184</td>\n",
       "      <td>4</td>\n",
       "      <td>success</td>\n",
       "      <td>yes</td>\n",
       "    </tr>\n",
       "    <tr>\n",
       "      <th>45202</th>\n",
       "      <td>34</td>\n",
       "      <td>admin.</td>\n",
       "      <td>single</td>\n",
       "      <td>secondary</td>\n",
       "      <td>no</td>\n",
       "      <td>557</td>\n",
       "      <td>no</td>\n",
       "      <td>no</td>\n",
       "      <td>cellular</td>\n",
       "      <td>17</td>\n",
       "      <td>nov</td>\n",
       "      <td>224</td>\n",
       "      <td>1</td>\n",
       "      <td>-1</td>\n",
       "      <td>0</td>\n",
       "      <td>unknown</td>\n",
       "      <td>yes</td>\n",
       "    </tr>\n",
       "    <tr>\n",
       "      <th>45203</th>\n",
       "      <td>23</td>\n",
       "      <td>student</td>\n",
       "      <td>single</td>\n",
       "      <td>tertiary</td>\n",
       "      <td>no</td>\n",
       "      <td>113</td>\n",
       "      <td>no</td>\n",
       "      <td>no</td>\n",
       "      <td>cellular</td>\n",
       "      <td>17</td>\n",
       "      <td>nov</td>\n",
       "      <td>266</td>\n",
       "      <td>1</td>\n",
       "      <td>-1</td>\n",
       "      <td>0</td>\n",
       "      <td>unknown</td>\n",
       "      <td>yes</td>\n",
       "    </tr>\n",
       "    <tr>\n",
       "      <th>45204</th>\n",
       "      <td>73</td>\n",
       "      <td>retired</td>\n",
       "      <td>married</td>\n",
       "      <td>secondary</td>\n",
       "      <td>no</td>\n",
       "      <td>2850</td>\n",
       "      <td>no</td>\n",
       "      <td>no</td>\n",
       "      <td>cellular</td>\n",
       "      <td>17</td>\n",
       "      <td>nov</td>\n",
       "      <td>300</td>\n",
       "      <td>1</td>\n",
       "      <td>40</td>\n",
       "      <td>8</td>\n",
       "      <td>failure</td>\n",
       "      <td>yes</td>\n",
       "    </tr>\n",
       "    <tr>\n",
       "      <th>45205</th>\n",
       "      <td>25</td>\n",
       "      <td>technician</td>\n",
       "      <td>single</td>\n",
       "      <td>secondary</td>\n",
       "      <td>no</td>\n",
       "      <td>505</td>\n",
       "      <td>no</td>\n",
       "      <td>yes</td>\n",
       "      <td>cellular</td>\n",
       "      <td>17</td>\n",
       "      <td>nov</td>\n",
       "      <td>386</td>\n",
       "      <td>2</td>\n",
       "      <td>-1</td>\n",
       "      <td>0</td>\n",
       "      <td>unknown</td>\n",
       "      <td>yes</td>\n",
       "    </tr>\n",
       "    <tr>\n",
       "      <th>45206</th>\n",
       "      <td>51</td>\n",
       "      <td>technician</td>\n",
       "      <td>married</td>\n",
       "      <td>tertiary</td>\n",
       "      <td>no</td>\n",
       "      <td>825</td>\n",
       "      <td>no</td>\n",
       "      <td>no</td>\n",
       "      <td>cellular</td>\n",
       "      <td>17</td>\n",
       "      <td>nov</td>\n",
       "      <td>977</td>\n",
       "      <td>3</td>\n",
       "      <td>-1</td>\n",
       "      <td>0</td>\n",
       "      <td>unknown</td>\n",
       "      <td>yes</td>\n",
       "    </tr>\n",
       "    <tr>\n",
       "      <th>45207</th>\n",
       "      <td>71</td>\n",
       "      <td>retired</td>\n",
       "      <td>divorced</td>\n",
       "      <td>primary</td>\n",
       "      <td>no</td>\n",
       "      <td>1729</td>\n",
       "      <td>no</td>\n",
       "      <td>no</td>\n",
       "      <td>cellular</td>\n",
       "      <td>17</td>\n",
       "      <td>nov</td>\n",
       "      <td>456</td>\n",
       "      <td>2</td>\n",
       "      <td>-1</td>\n",
       "      <td>0</td>\n",
       "      <td>unknown</td>\n",
       "      <td>yes</td>\n",
       "    </tr>\n",
       "    <tr>\n",
       "      <th>45208</th>\n",
       "      <td>72</td>\n",
       "      <td>retired</td>\n",
       "      <td>married</td>\n",
       "      <td>secondary</td>\n",
       "      <td>no</td>\n",
       "      <td>5715</td>\n",
       "      <td>no</td>\n",
       "      <td>no</td>\n",
       "      <td>cellular</td>\n",
       "      <td>17</td>\n",
       "      <td>nov</td>\n",
       "      <td>1127</td>\n",
       "      <td>5</td>\n",
       "      <td>184</td>\n",
       "      <td>3</td>\n",
       "      <td>success</td>\n",
       "      <td>yes</td>\n",
       "    </tr>\n",
       "    <tr>\n",
       "      <th>45209</th>\n",
       "      <td>57</td>\n",
       "      <td>blue-collar</td>\n",
       "      <td>married</td>\n",
       "      <td>secondary</td>\n",
       "      <td>no</td>\n",
       "      <td>668</td>\n",
       "      <td>no</td>\n",
       "      <td>no</td>\n",
       "      <td>telephone</td>\n",
       "      <td>17</td>\n",
       "      <td>nov</td>\n",
       "      <td>508</td>\n",
       "      <td>4</td>\n",
       "      <td>-1</td>\n",
       "      <td>0</td>\n",
       "      <td>unknown</td>\n",
       "      <td>no</td>\n",
       "    </tr>\n",
       "    <tr>\n",
       "      <th>45210</th>\n",
       "      <td>37</td>\n",
       "      <td>entrepreneur</td>\n",
       "      <td>married</td>\n",
       "      <td>secondary</td>\n",
       "      <td>no</td>\n",
       "      <td>2971</td>\n",
       "      <td>no</td>\n",
       "      <td>no</td>\n",
       "      <td>cellular</td>\n",
       "      <td>17</td>\n",
       "      <td>nov</td>\n",
       "      <td>361</td>\n",
       "      <td>2</td>\n",
       "      <td>188</td>\n",
       "      <td>11</td>\n",
       "      <td>other</td>\n",
       "      <td>no</td>\n",
       "    </tr>\n",
       "  </tbody>\n",
       "</table>\n",
       "</div>"
      ],
      "text/plain": [
       "       age           job   marital  education default  balance housing loan  \\\n",
       "45201   53    management   married   tertiary      no      583      no   no   \n",
       "45202   34        admin.    single  secondary      no      557      no   no   \n",
       "45203   23       student    single   tertiary      no      113      no   no   \n",
       "45204   73       retired   married  secondary      no     2850      no   no   \n",
       "45205   25    technician    single  secondary      no      505      no  yes   \n",
       "45206   51    technician   married   tertiary      no      825      no   no   \n",
       "45207   71       retired  divorced    primary      no     1729      no   no   \n",
       "45208   72       retired   married  secondary      no     5715      no   no   \n",
       "45209   57   blue-collar   married  secondary      no      668      no   no   \n",
       "45210   37  entrepreneur   married  secondary      no     2971      no   no   \n",
       "\n",
       "         contact  day month  duration  campaign  pdays  previous poutcome  \\\n",
       "45201   cellular   17   nov       226         1    184         4  success   \n",
       "45202   cellular   17   nov       224         1     -1         0  unknown   \n",
       "45203   cellular   17   nov       266         1     -1         0  unknown   \n",
       "45204   cellular   17   nov       300         1     40         8  failure   \n",
       "45205   cellular   17   nov       386         2     -1         0  unknown   \n",
       "45206   cellular   17   nov       977         3     -1         0  unknown   \n",
       "45207   cellular   17   nov       456         2     -1         0  unknown   \n",
       "45208   cellular   17   nov      1127         5    184         3  success   \n",
       "45209  telephone   17   nov       508         4     -1         0  unknown   \n",
       "45210   cellular   17   nov       361         2    188        11    other   \n",
       "\n",
       "      Target  \n",
       "45201    yes  \n",
       "45202    yes  \n",
       "45203    yes  \n",
       "45204    yes  \n",
       "45205    yes  \n",
       "45206    yes  \n",
       "45207    yes  \n",
       "45208    yes  \n",
       "45209     no  \n",
       "45210     no  "
      ]
     },
     "execution_count": 3,
     "metadata": {},
     "output_type": "execute_result"
    }
   ],
   "source": [
    "bank_data.tail(10)"
   ]
  },
  {
   "cell_type": "markdown",
   "metadata": {},
   "source": [
    "# Exploratory data quality report"
   ]
  },
  {
   "cell_type": "markdown",
   "metadata": {},
   "source": [
    "1. Univariate analysis"
   ]
  },
  {
   "cell_type": "code",
   "execution_count": 4,
   "metadata": {},
   "outputs": [
    {
     "name": "stdout",
     "output_type": "stream",
     "text": [
      "<class 'pandas.core.frame.DataFrame'>\n",
      "RangeIndex: 45211 entries, 0 to 45210\n",
      "Data columns (total 17 columns):\n",
      "age          45211 non-null int64\n",
      "job          45211 non-null object\n",
      "marital      45211 non-null object\n",
      "education    45211 non-null object\n",
      "default      45211 non-null object\n",
      "balance      45211 non-null int64\n",
      "housing      45211 non-null object\n",
      "loan         45211 non-null object\n",
      "contact      45211 non-null object\n",
      "day          45211 non-null int64\n",
      "month        45211 non-null object\n",
      "duration     45211 non-null int64\n",
      "campaign     45211 non-null int64\n",
      "pdays        45211 non-null int64\n",
      "previous     45211 non-null int64\n",
      "poutcome     45211 non-null object\n",
      "Target       45211 non-null object\n",
      "dtypes: int64(7), object(10)\n",
      "memory usage: 5.9+ MB\n"
     ]
    }
   ],
   "source": [
    "#To get information of null in columns and total entries per column\n",
    "bank_data.info()"
   ]
  },
  {
   "cell_type": "code",
   "execution_count": 5,
   "metadata": {},
   "outputs": [
    {
     "data": {
      "text/plain": [
       "age           int64\n",
       "job          object\n",
       "marital      object\n",
       "education    object\n",
       "default      object\n",
       "balance       int64\n",
       "housing      object\n",
       "loan         object\n",
       "contact      object\n",
       "day           int64\n",
       "month        object\n",
       "duration      int64\n",
       "campaign      int64\n",
       "pdays         int64\n",
       "previous      int64\n",
       "poutcome     object\n",
       "Target       object\n",
       "dtype: object"
      ]
     },
     "execution_count": 5,
     "metadata": {},
     "output_type": "execute_result"
    }
   ],
   "source": [
    "bank_data.dtypes"
   ]
  },
  {
   "cell_type": "markdown",
   "metadata": {},
   "source": [
    "It gives the data types of each column of the dataset. Most of the columns such as job, marital, education, default, housing, loan, contact, month, poutcome, Target are categorical data types. Here, it is showing object data type. So, we have to convert these to categorical data type."
   ]
  },
  {
   "cell_type": "code",
   "execution_count": 6,
   "metadata": {},
   "outputs": [
    {
     "data": {
      "text/plain": [
       "age             int64\n",
       "job          category\n",
       "marital      category\n",
       "education    category\n",
       "default      category\n",
       "balance         int64\n",
       "housing      category\n",
       "loan         category\n",
       "contact      category\n",
       "day             int64\n",
       "month        category\n",
       "duration        int64\n",
       "campaign        int64\n",
       "pdays           int64\n",
       "previous        int64\n",
       "poutcome     category\n",
       "Target       category\n",
       "dtype: object"
      ]
     },
     "execution_count": 6,
     "metadata": {},
     "output_type": "execute_result"
    }
   ],
   "source": [
    "bank_data['Target']=bank_data.Target.astype('category')\n",
    "bank_data['job']=bank_data.job.astype('category')\n",
    "bank_data['marital']=bank_data.marital.astype('category')\n",
    "bank_data['education']=bank_data.education.astype('category')\n",
    "bank_data['default']=bank_data.default.astype('category')\n",
    "bank_data['housing']=bank_data.housing.astype('category')\n",
    "bank_data['loan']=bank_data.loan.astype('category')\n",
    "bank_data['contact']=bank_data.contact.astype('category')\n",
    "bank_data['month']=bank_data.month.astype('category')\n",
    "bank_data['poutcome']=bank_data.poutcome.astype('category')\n",
    "bank_data.dtypes"
   ]
  },
  {
   "cell_type": "code",
   "execution_count": 7,
   "metadata": {},
   "outputs": [
    {
     "data": {
      "text/plain": [
       "(45211, 17)"
      ]
     },
     "execution_count": 7,
     "metadata": {},
     "output_type": "execute_result"
    }
   ],
   "source": [
    "bank_data.shape"
   ]
  },
  {
   "cell_type": "markdown",
   "metadata": {},
   "source": [
    "It shows the shape of the dataset i.e. there are 45211 rows and 17 columns."
   ]
  },
  {
   "cell_type": "code",
   "execution_count": 8,
   "metadata": {},
   "outputs": [
    {
     "data": {
      "text/plain": [
       "Index(['age', 'job', 'marital', 'education', 'default', 'balance', 'housing',\n",
       "       'loan', 'contact', 'day', 'month', 'duration', 'campaign', 'pdays',\n",
       "       'previous', 'poutcome', 'Target'],\n",
       "      dtype='object')"
      ]
     },
     "execution_count": 8,
     "metadata": {},
     "output_type": "execute_result"
    }
   ],
   "source": [
    "bank_data.columns"
   ]
  },
  {
   "cell_type": "code",
   "execution_count": 9,
   "metadata": {},
   "outputs": [
    {
     "data": {
      "text/html": [
       "<div>\n",
       "<style scoped>\n",
       "    .dataframe tbody tr th:only-of-type {\n",
       "        vertical-align: middle;\n",
       "    }\n",
       "\n",
       "    .dataframe tbody tr th {\n",
       "        vertical-align: top;\n",
       "    }\n",
       "\n",
       "    .dataframe thead th {\n",
       "        text-align: right;\n",
       "    }\n",
       "</style>\n",
       "<table border=\"1\" class=\"dataframe\">\n",
       "  <thead>\n",
       "    <tr style=\"text-align: right;\">\n",
       "      <th></th>\n",
       "      <th>count</th>\n",
       "      <th>mean</th>\n",
       "      <th>std</th>\n",
       "      <th>min</th>\n",
       "      <th>25%</th>\n",
       "      <th>50%</th>\n",
       "      <th>75%</th>\n",
       "      <th>max</th>\n",
       "    </tr>\n",
       "  </thead>\n",
       "  <tbody>\n",
       "    <tr>\n",
       "      <th>age</th>\n",
       "      <td>45211.0</td>\n",
       "      <td>40.936210</td>\n",
       "      <td>10.618762</td>\n",
       "      <td>18.0</td>\n",
       "      <td>33.0</td>\n",
       "      <td>39.0</td>\n",
       "      <td>48.0</td>\n",
       "      <td>95.0</td>\n",
       "    </tr>\n",
       "    <tr>\n",
       "      <th>balance</th>\n",
       "      <td>45211.0</td>\n",
       "      <td>1362.272058</td>\n",
       "      <td>3044.765829</td>\n",
       "      <td>-8019.0</td>\n",
       "      <td>72.0</td>\n",
       "      <td>448.0</td>\n",
       "      <td>1428.0</td>\n",
       "      <td>102127.0</td>\n",
       "    </tr>\n",
       "    <tr>\n",
       "      <th>day</th>\n",
       "      <td>45211.0</td>\n",
       "      <td>15.806419</td>\n",
       "      <td>8.322476</td>\n",
       "      <td>1.0</td>\n",
       "      <td>8.0</td>\n",
       "      <td>16.0</td>\n",
       "      <td>21.0</td>\n",
       "      <td>31.0</td>\n",
       "    </tr>\n",
       "    <tr>\n",
       "      <th>duration</th>\n",
       "      <td>45211.0</td>\n",
       "      <td>258.163080</td>\n",
       "      <td>257.527812</td>\n",
       "      <td>0.0</td>\n",
       "      <td>103.0</td>\n",
       "      <td>180.0</td>\n",
       "      <td>319.0</td>\n",
       "      <td>4918.0</td>\n",
       "    </tr>\n",
       "    <tr>\n",
       "      <th>campaign</th>\n",
       "      <td>45211.0</td>\n",
       "      <td>2.763841</td>\n",
       "      <td>3.098021</td>\n",
       "      <td>1.0</td>\n",
       "      <td>1.0</td>\n",
       "      <td>2.0</td>\n",
       "      <td>3.0</td>\n",
       "      <td>63.0</td>\n",
       "    </tr>\n",
       "    <tr>\n",
       "      <th>pdays</th>\n",
       "      <td>45211.0</td>\n",
       "      <td>40.197828</td>\n",
       "      <td>100.128746</td>\n",
       "      <td>-1.0</td>\n",
       "      <td>-1.0</td>\n",
       "      <td>-1.0</td>\n",
       "      <td>-1.0</td>\n",
       "      <td>871.0</td>\n",
       "    </tr>\n",
       "    <tr>\n",
       "      <th>previous</th>\n",
       "      <td>45211.0</td>\n",
       "      <td>0.580323</td>\n",
       "      <td>2.303441</td>\n",
       "      <td>0.0</td>\n",
       "      <td>0.0</td>\n",
       "      <td>0.0</td>\n",
       "      <td>0.0</td>\n",
       "      <td>275.0</td>\n",
       "    </tr>\n",
       "  </tbody>\n",
       "</table>\n",
       "</div>"
      ],
      "text/plain": [
       "            count         mean          std     min    25%    50%     75%  \\\n",
       "age       45211.0    40.936210    10.618762    18.0   33.0   39.0    48.0   \n",
       "balance   45211.0  1362.272058  3044.765829 -8019.0   72.0  448.0  1428.0   \n",
       "day       45211.0    15.806419     8.322476     1.0    8.0   16.0    21.0   \n",
       "duration  45211.0   258.163080   257.527812     0.0  103.0  180.0   319.0   \n",
       "campaign  45211.0     2.763841     3.098021     1.0    1.0    2.0     3.0   \n",
       "pdays     45211.0    40.197828   100.128746    -1.0   -1.0   -1.0    -1.0   \n",
       "previous  45211.0     0.580323     2.303441     0.0    0.0    0.0     0.0   \n",
       "\n",
       "               max  \n",
       "age           95.0  \n",
       "balance   102127.0  \n",
       "day           31.0  \n",
       "duration    4918.0  \n",
       "campaign      63.0  \n",
       "pdays        871.0  \n",
       "previous     275.0  "
      ]
     },
     "execution_count": 9,
     "metadata": {},
     "output_type": "execute_result"
    }
   ],
   "source": [
    "#Analyze the distribution of the dataset\n",
    "bank_data.describe().T"
   ]
  },
  {
   "cell_type": "code",
   "execution_count": 10,
   "metadata": {},
   "outputs": [
    {
     "data": {
      "text/plain": [
       "age          39.0\n",
       "balance     448.0\n",
       "day          16.0\n",
       "duration    180.0\n",
       "campaign      2.0\n",
       "pdays        -1.0\n",
       "previous      0.0\n",
       "dtype: float64"
      ]
     },
     "execution_count": 10,
     "metadata": {},
     "output_type": "execute_result"
    }
   ],
   "source": [
    "bank_data.median()"
   ]
  },
  {
   "cell_type": "code",
   "execution_count": 11,
   "metadata": {},
   "outputs": [
    {
     "data": {
      "text/plain": [
       "age          0.684818\n",
       "balance      8.360308\n",
       "day          0.093079\n",
       "duration     3.144318\n",
       "campaign     4.898650\n",
       "pdays        2.615715\n",
       "previous    41.846454\n",
       "dtype: float64"
      ]
     },
     "execution_count": 11,
     "metadata": {},
     "output_type": "execute_result"
    }
   ],
   "source": [
    "bank_data.skew()"
   ]
  },
  {
   "cell_type": "markdown",
   "metadata": {},
   "source": [
    "It gives the descriptive statistics (mean, median, mode, percentiles, min, max, standard deviation) of the columns of the dataset.\n",
    "age, balance are right skewed."
   ]
  },
  {
   "cell_type": "markdown",
   "metadata": {},
   "source": [
    "2. Description of independent attributes"
   ]
  },
  {
   "cell_type": "markdown",
   "metadata": {},
   "source": [
    "#### Age"
   ]
  },
  {
   "cell_type": "markdown",
   "metadata": {},
   "source": [
    "##### Central Values"
   ]
  },
  {
   "cell_type": "code",
   "execution_count": 12,
   "metadata": {},
   "outputs": [
    {
     "name": "stdout",
     "output_type": "stream",
     "text": [
      "Minimum age:               18\n",
      "Maximum age:               95\n",
      "Mean Value:                40.93621021432837\n",
      "Median Value:              39.0\n",
      "Standard deviation Value:  10.618762040975431\n",
      "Null Values:               False\n"
     ]
    }
   ],
   "source": [
    "print('Minimum age:              ', bank_data['age'].min())\n",
    "print('Maximum age:              ', bank_data['age'].max())\n",
    "print('Mean Value:               ', bank_data['age'].mean())\n",
    "print('Median Value:             ', bank_data['age'].median())\n",
    "print('Standard deviation Value: ', bank_data['age'].std())\n",
    "print('Null Values:              ', bank_data['age'].isnull().any())"
   ]
  },
  {
   "cell_type": "markdown",
   "metadata": {},
   "source": [
    "##### Quartiles"
   ]
  },
  {
   "cell_type": "code",
   "execution_count": 13,
   "metadata": {},
   "outputs": [
    {
     "name": "stdout",
     "output_type": "stream",
     "text": [
      "1st Quartile (Q1) is:  33.0\n",
      "3st Quartile (Q3) is:  48.0\n"
     ]
    }
   ],
   "source": [
    "Q1=bank_data['age'].quantile(q=0.25)\n",
    "Q3=bank_data['age'].quantile(q=0.75)\n",
    "print('1st Quartile (Q1) is: ', Q1)\n",
    "print('3st Quartile (Q3) is: ', Q3)"
   ]
  },
  {
   "cell_type": "markdown",
   "metadata": {},
   "source": [
    "##### Outlier detection from Interquartile range (IQR)"
   ]
  },
  {
   "cell_type": "code",
   "execution_count": 14,
   "metadata": {},
   "outputs": [
    {
     "name": "stdout",
     "output_type": "stream",
     "text": [
      "IQR is 15.0\n",
      "Lower Outlier in Age:  10.5\n",
      "Upper Outlier in Age:  70.5\n"
     ]
    }
   ],
   "source": [
    "IQR = Q3 - Q1\n",
    "print ('IQR is', IQR)\n",
    "L_outliers=Q1-1.5*IQR #Lower_outlier\n",
    "U_outliers=Q3+1.5*IQR #Upper Outlier\n",
    "print('Lower Outlier in Age: ',L_outliers)\n",
    "print('Upper Outlier in Age: ',U_outliers)"
   ]
  },
  {
   "cell_type": "code",
   "execution_count": 15,
   "metadata": {},
   "outputs": [
    {
     "name": "stdout",
     "output_type": "stream",
     "text": [
      "Number of outliers in Age upper :  487\n",
      "Number of outliers in Age lower :  0\n",
      "% of Outlier in Age upper:  1.0 %\n",
      "% of Outlier in Age lower:  0.0 %\n"
     ]
    }
   ],
   "source": [
    "print('Number of outliers in Age upper : ', bank_data[bank_data['age']>U_outliers]['age'].count())\n",
    "print('Number of outliers in Age lower : ', bank_data[bank_data['age']<L_outliers]['age'].count())\n",
    "print('% of Outlier in Age upper: ', round(bank_data[bank_data['age']>U_outliers]['age'].count()*100/len(bank_data)),'%')\n",
    "print('% of Outlier in Age lower: ', round(bank_data[bank_data['age']<L_outliers]['age'].count()*100/len(bank_data)),'%')"
   ]
  },
  {
   "cell_type": "code",
   "execution_count": 16,
   "metadata": {},
   "outputs": [
    {
     "data": {
      "image/png": "[encoded data removed]",
      "text/plain": [
       "<Figure size 936x360 with 3 Axes>"
      ]
     },
     "metadata": {
      "needs_background": "light"
     },
     "output_type": "display_data"
    }
   ],
   "source": [
    "fig, (ax1,ax2,ax3)=plt.subplots(1,3,figsize=(13,5))\n",
    "\n",
    "#boxplot\n",
    "sns.boxplot(x='age',data=bank_data,orient='v',ax=ax1)\n",
    "ax1.set_xlabel('Client age', fontsize=15)\n",
    "ax1.set_ylabel('Age', fontsize=15)\n",
    "ax1.set_title('Distribution of age', fontsize=15)\n",
    "ax1.tick_params(labelsize=15)\n",
    "\n",
    "#distplot\n",
    "sns.distplot(bank_data['age'],ax=ax2)\n",
    "ax2.set_xlabel('Age', fontsize=15)\n",
    "ax2.set_ylabel('Occurrence', fontsize=15)\n",
    "ax2.set_title('Age vs Occurrence', fontsize=15)\n",
    "ax2.tick_params(labelsize=15)\n",
    "\n",
    "#histogram\n",
    "ax3.hist(bank_data['age'])\n",
    "ax3.set_xlabel('Age', fontsize=15)\n",
    "ax3.set_ylabel('Occurrence', fontsize=15)\n",
    "ax3.set_title('Age vs Occurrence', fontsize=15)\n",
    "ax3.tick_params(labelsize=15)\n",
    "\n",
    "plt.subplots_adjust(wspace=0.5)\n",
    "plt.tight_layout()\n"
   ]
  },
  {
   "cell_type": "markdown",
   "metadata": {},
   "source": [
    "    1.We have clients with all the ages (minimum age 18 to maximum age 95).\n",
    "    2.Mean and median have very less diference.\n",
    "    3.age attribute does not have any missing values.\n",
    "    4.age is right skewed. As more number of data points are present on right tail. The boxplot, distplot and histogram is also showing the same."
   ]
  },
  {
   "cell_type": "markdown",
   "metadata": {},
   "source": [
    "#### Job"
   ]
  },
  {
   "cell_type": "code",
   "execution_count": 17,
   "metadata": {},
   "outputs": [
    {
     "name": "stdout",
     "output_type": "stream",
     "text": [
      "Jobs: \n",
      " [management, technician, entrepreneur, blue-collar, unknown, ..., services, self-employed, unemployed, housemaid, student]\n",
      "Length: 12\n",
      "Categories (12, object): [management, technician, entrepreneur, blue-collar, ..., self-employed, unemployed, housemaid, student]\n"
     ]
    }
   ],
   "source": [
    "print('Jobs: \\n', bank_data['job'].unique())"
   ]
  },
  {
   "cell_type": "code",
   "execution_count": 18,
   "metadata": {},
   "outputs": [
    {
     "data": {
      "text/plain": [
       "job\n",
       "admin.           5171\n",
       "blue-collar      9732\n",
       "entrepreneur     1487\n",
       "housemaid        1240\n",
       "management       9458\n",
       "retired          2264\n",
       "self-employed    1579\n",
       "services         4154\n",
       "student           938\n",
       "technician       7597\n",
       "unemployed       1303\n",
       "unknown           288\n",
       "dtype: int64"
      ]
     },
     "execution_count": 18,
     "metadata": {},
     "output_type": "execute_result"
    }
   ],
   "source": [
    "bank_data.groupby('job').size()\n"
   ]
  },
  {
   "cell_type": "code",
   "execution_count": 19,
   "metadata": {},
   "outputs": [
    {
     "data": {
      "image/png": "[encoded data removed]",
      "text/plain": [
       "<Figure size 1440x576 with 1 Axes>"
      ]
     },
     "metadata": {
      "needs_background": "light"
     },
     "output_type": "display_data"
    }
   ],
   "source": [
    "fig, ax=plt.subplots()\n",
    "fig.set_size_inches(20,8)\n",
    "\n",
    "#countplot\n",
    "sns.countplot(bank_data['job'],data=bank_data)\n",
    "ax1.set_xlabel('Job', fontsize=18)\n",
    "ax1.set_ylabel('Count', fontsize=18)\n",
    "ax1.set_title('Job vs Count', fontsize=18)\n",
    "ax1.tick_params(labelsize=20)"
   ]
  },
  {
   "cell_type": "code",
   "execution_count": 20,
   "metadata": {},
   "outputs": [
    {
     "data": {
      "text/plain": [
       "array(['managerial', 'technician', 'entrepreneur', 'worker', 'unknown',\n",
       "       'retired', 'admin.', 'self-employed', 'unemployed', 'student'],\n",
       "      dtype=object)"
      ]
     },
     "execution_count": 20,
     "metadata": {},
     "output_type": "execute_result"
    }
   ],
   "source": [
    "bank_data['job']=np.where(bank_data['job']=='blue-collar','worker',bank_data['job'])\n",
    "bank_data['job']=np.where(bank_data['job']=='housemaid','worker',bank_data['job'])\n",
    "bank_data['job']=np.where(bank_data['job']=='management','managerial',bank_data['job'])\n",
    "bank_data['job']=np.where(bank_data['job']=='services','managerial',bank_data['job'])\n",
    "bank_data['job']=np.where(bank_data['job']=='admin','managerial',bank_data['job'])\n",
    "bank_data['job']=np.where(bank_data['job']=='enterpreneur','managerial',bank_data['job'])\n",
    "\n",
    "bank_data['job'].unique()"
   ]
  },
  {
   "cell_type": "markdown",
   "metadata": {},
   "source": [
    "\n",
    "    1. Job attribute shows the clients job information.\n",
    "    2.It also shows that there are some unknown values. We do not know about the jobs of some clients. It indicates the missing values.\n",
    "    3.Countplot shows that blue-collar, management, and technician clients have more subscriptions than the other clients."
   ]
  },
  {
   "cell_type": "markdown",
   "metadata": {},
   "source": [
    "#### Marital"
   ]
  },
  {
   "cell_type": "code",
   "execution_count": 21,
   "metadata": {},
   "outputs": [
    {
     "name": "stdout",
     "output_type": "stream",
     "text": [
      "Marital: \n",
      " [married, single, divorced]\n",
      "Categories (3, object): [married, single, divorced]\n"
     ]
    }
   ],
   "source": [
    "print('Marital: \\n', bank_data['marital'].unique())"
   ]
  },
  {
   "cell_type": "code",
   "execution_count": 22,
   "metadata": {},
   "outputs": [
    {
     "data": {
      "text/plain": [
       "marital\n",
       "divorced     5207\n",
       "married     27214\n",
       "single      12790\n",
       "dtype: int64"
      ]
     },
     "execution_count": 22,
     "metadata": {},
     "output_type": "execute_result"
    }
   ],
   "source": [
    "bank_data.groupby('marital').size()"
   ]
  },
  {
   "cell_type": "code",
   "execution_count": 23,
   "metadata": {},
   "outputs": [
    {
     "data": {
      "image/png": "[encoded data removed]",
      "text/plain": [
       "<Figure size 720x360 with 1 Axes>"
      ]
     },
     "metadata": {
      "needs_background": "light"
     },
     "output_type": "display_data"
    }
   ],
   "source": [
    "fig, ax=plt.subplots()\n",
    "fig.set_size_inches(10,5)\n",
    "\n",
    "#countplot\n",
    "sns.countplot(bank_data['marital'],data=bank_data)\n",
    "ax.set_xlabel('Marital status', fontsize=15)\n",
    "ax.set_ylabel('Count', fontsize=15)\n",
    "ax.set_title('Marital status vs Count', fontsize=15)\n",
    "ax.tick_params(labelsize=15)"
   ]
  },
  {
   "cell_type": "markdown",
   "metadata": {},
   "source": [
    "    It shows that married people are taking more subscriptions than the other people."
   ]
  },
  {
   "cell_type": "markdown",
   "metadata": {},
   "source": [
    "#### Education"
   ]
  },
  {
   "cell_type": "code",
   "execution_count": 24,
   "metadata": {},
   "outputs": [
    {
     "name": "stdout",
     "output_type": "stream",
     "text": [
      "Education: \n",
      " [tertiary, secondary, unknown, primary]\n",
      "Categories (4, object): [tertiary, secondary, unknown, primary]\n"
     ]
    }
   ],
   "source": [
    "print('Education: \\n', bank_data['education'].unique())"
   ]
  },
  {
   "cell_type": "code",
   "execution_count": 25,
   "metadata": {},
   "outputs": [
    {
     "data": {
      "text/plain": [
       "education\n",
       "primary       6851\n",
       "secondary    23202\n",
       "tertiary     13301\n",
       "unknown       1857\n",
       "dtype: int64"
      ]
     },
     "execution_count": 25,
     "metadata": {},
     "output_type": "execute_result"
    }
   ],
   "source": [
    "bank_data.groupby('education').size()"
   ]
  },
  {
   "cell_type": "code",
   "execution_count": 26,
   "metadata": {},
   "outputs": [
    {
     "data": {
      "image/png": "[encoded data removed]",
      "text/plain": [
       "<Figure size 720x360 with 1 Axes>"
      ]
     },
     "metadata": {
      "needs_background": "light"
     },
     "output_type": "display_data"
    }
   ],
   "source": [
    "fig, ax=plt.subplots()\n",
    "fig.set_size_inches(10,5)\n",
    "\n",
    "#countplot\n",
    "sns.countplot(bank_data['education'],data=bank_data)\n",
    "ax.set_xlabel('Education', fontsize=15)\n",
    "ax.set_ylabel('Count', fontsize=15)\n",
    "ax.set_title('Education vs Count', fontsize=15)\n",
    "ax.tick_params(labelsize=15)"
   ]
  },
  {
   "cell_type": "markdown",
   "metadata": {},
   "source": [
    "#### Default, Housing, Loan"
   ]
  },
  {
   "cell_type": "code",
   "execution_count": 27,
   "metadata": {},
   "outputs": [
    {
     "name": "stdout",
     "output_type": "stream",
     "text": [
      "Default: \n",
      " [no, yes]\n",
      "Categories (2, object): [no, yes]\n",
      "Housing: \n",
      " [yes, no]\n",
      "Categories (2, object): [yes, no]\n",
      "Loan: \n",
      " [no, yes]\n",
      "Categories (2, object): [no, yes]\n"
     ]
    }
   ],
   "source": [
    "print('Default: \\n', bank_data['default'].unique())\n",
    "print('Housing: \\n', bank_data['housing'].unique())\n",
    "print('Loan: \\n', bank_data['loan'].unique())"
   ]
  },
  {
   "cell_type": "code",
   "execution_count": 28,
   "metadata": {},
   "outputs": [
    {
     "name": "stdout",
     "output_type": "stream",
     "text": [
      "default\n",
      "no     44396\n",
      "yes      815\n",
      "dtype: int64\n"
     ]
    }
   ],
   "source": [
    "print(bank_data.groupby('default').size())"
   ]
  },
  {
   "cell_type": "code",
   "execution_count": 29,
   "metadata": {},
   "outputs": [
    {
     "data": {
      "text/plain": [
       "housing\n",
       "no     20081\n",
       "yes    25130\n",
       "dtype: int64"
      ]
     },
     "execution_count": 29,
     "metadata": {},
     "output_type": "execute_result"
    }
   ],
   "source": [
    "bank_data.groupby('housing').size()"
   ]
  },
  {
   "cell_type": "code",
   "execution_count": 30,
   "metadata": {},
   "outputs": [
    {
     "data": {
      "text/plain": [
       "loan\n",
       "no     37967\n",
       "yes     7244\n",
       "dtype: int64"
      ]
     },
     "execution_count": 30,
     "metadata": {},
     "output_type": "execute_result"
    }
   ],
   "source": [
    "bank_data.groupby('loan').size()"
   ]
  },
  {
   "cell_type": "code",
   "execution_count": 31,
   "metadata": {},
   "outputs": [
    {
     "data": {
      "image/png": "[encoded data removed]",
      "text/plain": [
       "<Figure size 720x360 with 1 Axes>"
      ]
     },
     "metadata": {
      "needs_background": "light"
     },
     "output_type": "display_data"
    }
   ],
   "source": [
    "fig, ax=plt.subplots()\n",
    "fig.set_size_inches(10,5)\n",
    "\n",
    "#countplot\n",
    "sns.countplot(bank_data['default'],data=bank_data)\n",
    "ax.set_xlabel('Default', fontsize=15)\n",
    "ax.set_ylabel('Count', fontsize=15)\n",
    "ax.set_title('Default vs Count', fontsize=15)\n",
    "ax.tick_params(labelsize=15)"
   ]
  },
  {
   "cell_type": "code",
   "execution_count": 32,
   "metadata": {},
   "outputs": [
    {
     "data": {
      "image/png": "[encoded data removed]",
      "text/plain": [
       "<Figure size 720x360 with 1 Axes>"
      ]
     },
     "metadata": {
      "needs_background": "light"
     },
     "output_type": "display_data"
    }
   ],
   "source": [
    "fig, ax=plt.subplots()\n",
    "fig.set_size_inches(10,5)\n",
    "\n",
    "#countplot\n",
    "sns.countplot(bank_data['housing'],data=bank_data)\n",
    "ax.set_xlabel('Housing', fontsize=15)\n",
    "ax.set_ylabel('Count', fontsize=15)\n",
    "ax.set_title('Housing vs Count', fontsize=15)\n",
    "ax.tick_params(labelsize=15)"
   ]
  },
  {
   "cell_type": "code",
   "execution_count": 33,
   "metadata": {},
   "outputs": [
    {
     "data": {
      "image/png": "[encoded data removed]",
      "text/plain": [
       "<Figure size 720x360 with 1 Axes>"
      ]
     },
     "metadata": {
      "needs_background": "light"
     },
     "output_type": "display_data"
    }
   ],
   "source": [
    "fig, ax=plt.subplots()\n",
    "fig.set_size_inches(10,5)\n",
    "\n",
    "#countplot\n",
    "sns.countplot(bank_data['loan'],data=bank_data)\n",
    "ax.set_xlabel('Loan', fontsize=15)\n",
    "ax.set_ylabel('Count', fontsize=15)\n",
    "ax.set_title('Loan vs Count', fontsize=15)\n",
    "ax.tick_params(labelsize=15)"
   ]
  },
  {
   "cell_type": "markdown",
   "metadata": {},
   "source": [
    "#### Balance"
   ]
  },
  {
   "cell_type": "code",
   "execution_count": 34,
   "metadata": {},
   "outputs": [
    {
     "name": "stdout",
     "output_type": "stream",
     "text": [
      "Minimum balance:  -8019\n",
      "Maximum balance:  102127\n",
      "Mean value:  1362.2720576850766\n",
      "Median value:  448.0\n",
      "Standard deviation:  3044.7658291686002\n",
      "Null values:  False\n"
     ]
    }
   ],
   "source": [
    "#Central Values\n",
    "print('Minimum balance: ', bank_data['balance'].min())\n",
    "print('Maximum balance: ',bank_data['balance'].max())\n",
    "print('Mean value: ', bank_data['balance'].mean())\n",
    "print('Median value: ',bank_data['balance'].median())\n",
    "print('Standard deviation: ', bank_data['balance'].std())\n",
    "print('Null values: ',bank_data['balance'].isnull().any())"
   ]
  },
  {
   "cell_type": "code",
   "execution_count": 35,
   "metadata": {},
   "outputs": [
    {
     "name": "stdout",
     "output_type": "stream",
     "text": [
      "1st Quartile (Q1) is:  72.0\n",
      "3st Quartile (Q3) is:  1428.0\n"
     ]
    }
   ],
   "source": [
    "#Quartiles\n",
    "Q1=bank_data['balance'].quantile(q=0.25)\n",
    "Q3=bank_data['balance'].quantile(q=0.75)\n",
    "print('1st Quartile (Q1) is: ', Q1)\n",
    "print('3st Quartile (Q3) is: ', Q3)"
   ]
  },
  {
   "cell_type": "code",
   "execution_count": 36,
   "metadata": {},
   "outputs": [
    {
     "name": "stdout",
     "output_type": "stream",
     "text": [
      "Lower outliers in Balance:  -1962.0\n",
      "Upper outliers in Balance:  3462.0\n"
     ]
    }
   ],
   "source": [
    "#Outlier detection from Interquartile range (IQR)\n",
    "\n",
    "L_outliers=Q1-1.5*(Q3-Q1)\n",
    "U_outliers=Q3+1.5*(Q3-Q1)\n",
    "print('Lower outliers in Balance: ', L_outliers)\n",
    "print('Upper outliers in Balance: ', U_outliers)"
   ]
  },
  {
   "cell_type": "code",
   "execution_count": 37,
   "metadata": {},
   "outputs": [
    {
     "name": "stdout",
     "output_type": "stream",
     "text": [
      "Number of outliers in Balance upper :  18980\n",
      "Number of outliers in Balance lower :  1922\n",
      "% of Outlier in Balance upper:  42.0 %\n",
      "% of Outlier in Balancee lower:  4.0 %\n"
     ]
    }
   ],
   "source": [
    "print('Number of outliers in Balance upper : ', bank_data[bank_data['balance']>643]['balance'].count())\n",
    "print('Number of outliers in Balance lower : ', bank_data[bank_data['balance']<-221]['balance'].count())\n",
    "print('% of Outlier in Balance upper: ',round(bank_data[bank_data['balance']>643]['balance'].count()*100/len(bank_data)), '%')\n",
    "print('% of Outlier in Balancee lower: ',round(bank_data[bank_data['balance']<-221]['balance'].count()*100/len(bank_data)), '%')\n"
   ]
  },
  {
   "cell_type": "code",
   "execution_count": 38,
   "metadata": {},
   "outputs": [
    {
     "data": {
      "image/png": "[encoded data removed]",
      "text/plain": [
       "<Figure size 936x360 with 3 Axes>"
      ]
     },
     "metadata": {
      "needs_background": "light"
     },
     "output_type": "display_data"
    }
   ],
   "source": [
    "\n",
    "fig, (ax1,ax2,ax3)=plt.subplots(1,3,figsize=(13,5))\n",
    "\n",
    "#boxplot\n",
    "sns.boxplot(x='balance',data=bank_data,orient='v',ax=ax1)\n",
    "ax1.set_xlabel('Client balance', fontsize=15)\n",
    "ax1.set_ylabel('Balance', fontsize=15)\n",
    "ax1.set_title('Distribution of balance', fontsize=15)\n",
    "ax1.tick_params(labelsize=15)\n",
    "\n",
    "#distplot\n",
    "sns.distplot(bank_data['balance'],ax=ax2)\n",
    "ax2.set_xlabel('Balance', fontsize=15)\n",
    "ax2.set_ylabel('Occurrence', fontsize=15)\n",
    "ax2.set_title('Balance vs Occurrence', fontsize=15)\n",
    "ax2.tick_params(labelsize=15)\n",
    "\n",
    "#histogram\n",
    "ax3.hist(bank_data['balance'])\n",
    "ax3.set_xlabel('Balance', fontsize=15)\n",
    "ax3.set_ylabel('Occurrence', fontsize=15)\n",
    "ax3.set_title('Balance vs Occurrence', fontsize=15)\n",
    "ax3.tick_params(labelsize=15)\n",
    "\n",
    "plt.subplots_adjust(wspace=0.5)\n",
    "plt.tight_layout()"
   ]
  },
  {
   "cell_type": "markdown",
   "metadata": {},
   "source": [
    "    1.Mean and median are different.\n",
    "    2.balance is right skewed. As more number of data points are present on right tail. The boxplot, distplot and histogram is also showing the same.\n",
    "    3.balance attribute does not have any missing values"
   ]
  },
  {
   "cell_type": "markdown",
   "metadata": {},
   "source": [
    "#### Contact"
   ]
  },
  {
   "cell_type": "code",
   "execution_count": 39,
   "metadata": {},
   "outputs": [
    {
     "name": "stdout",
     "output_type": "stream",
     "text": [
      "Contact: \n",
      " [unknown, cellular, telephone]\n",
      "Categories (3, object): [unknown, cellular, telephone]\n"
     ]
    }
   ],
   "source": [
    "print('Contact: \\n', bank_data['contact'].unique())"
   ]
  },
  {
   "cell_type": "code",
   "execution_count": 40,
   "metadata": {},
   "outputs": [
    {
     "data": {
      "text/plain": [
       "contact\n",
       "cellular     29285\n",
       "telephone     2906\n",
       "unknown      13020\n",
       "dtype: int64"
      ]
     },
     "execution_count": 40,
     "metadata": {},
     "output_type": "execute_result"
    }
   ],
   "source": [
    "bank_data.groupby('contact').size()"
   ]
  },
  {
   "cell_type": "code",
   "execution_count": 41,
   "metadata": {},
   "outputs": [
    {
     "data": {
      "image/png": "[encoded data removed]",
      "text/plain": [
       "<Figure size 720x360 with 1 Axes>"
      ]
     },
     "metadata": {
      "needs_background": "light"
     },
     "output_type": "display_data"
    }
   ],
   "source": [
    "fig, ax=plt.subplots()\n",
    "fig.set_size_inches(10,5)\n",
    "\n",
    "#countplot\n",
    "sns.countplot(bank_data['contact'],data=bank_data)\n",
    "ax.set_xlabel('Contact', fontsize=15)\n",
    "ax.set_ylabel('Count', fontsize=15)\n",
    "ax.set_title('Contact vs Count', fontsize=15)\n",
    "ax.tick_params(labelsize=15)"
   ]
  },
  {
   "cell_type": "markdown",
   "metadata": {},
   "source": [
    "#### Day, Month"
   ]
  },
  {
   "cell_type": "code",
   "execution_count": 42,
   "metadata": {},
   "outputs": [
    {
     "name": "stdout",
     "output_type": "stream",
     "text": [
      "Day: \n",
      " [no, yes]\n",
      "Categories (2, object): [no, yes]\n",
      "Month: \n",
      " [no, yes]\n",
      "Categories (2, object): [no, yes]\n"
     ]
    }
   ],
   "source": [
    "print('Day: \\n', bank_data['loan'].unique())\n",
    "print('Month: \\n', bank_data['loan'].unique())"
   ]
  },
  {
   "cell_type": "code",
   "execution_count": 43,
   "metadata": {},
   "outputs": [
    {
     "name": "stdout",
     "output_type": "stream",
     "text": [
      "Count values in Day: \n",
      " loan\n",
      "no     37967\n",
      "yes     7244\n",
      "dtype: int64\n",
      "Count values in Month: \n",
      " loan\n",
      "no     37967\n",
      "yes     7244\n",
      "dtype: int64\n"
     ]
    }
   ],
   "source": [
    "print('Count values in Day: \\n',bank_data.groupby('loan').size())\n",
    "print('Count values in Month: \\n', bank_data.groupby('loan').size())"
   ]
  },
  {
   "cell_type": "code",
   "execution_count": 44,
   "metadata": {},
   "outputs": [
    {
     "data": {
      "image/png": "[encoded data removed]",
      "text/plain": [
       "<Figure size 720x360 with 1 Axes>"
      ]
     },
     "metadata": {
      "needs_background": "light"
     },
     "output_type": "display_data"
    }
   ],
   "source": [
    "\n",
    "fig, ax=plt.subplots()\n",
    "fig.set_size_inches(10,5)\n",
    "\n",
    "#countplot\n",
    "sns.countplot(bank_data['loan'],data=bank_data)\n",
    "ax.set_xlabel('Loan', fontsize=15)\n",
    "ax.set_ylabel('Count', fontsize=15)\n",
    "ax.set_title('Loan vs Count', fontsize=15)\n",
    "ax.tick_params(labelsize=15)"
   ]
  },
  {
   "cell_type": "code",
   "execution_count": 45,
   "metadata": {},
   "outputs": [
    {
     "data": {
      "image/png": "[encoded data removed]",
      "text/plain": [
       "<Figure size 936x360 with 2 Axes>"
      ]
     },
     "metadata": {
      "needs_background": "light"
     },
     "output_type": "display_data"
    }
   ],
   "source": [
    "fig, (ax1,ax2)=plt.subplots(1,2,figsize=(13,5))\n",
    "\n",
    "#countplot\n",
    "sns.countplot(bank_data['day'],data=bank_data,ax=ax1)\n",
    "ax1.set_xlabel('Day', fontsize=15)\n",
    "ax1.set_ylabel('Count', fontsize=15)\n",
    "ax1.set_title('Day vs Count', fontsize=15)\n",
    "ax1.tick_params(labelsize=10)\n",
    "\n",
    "sns.countplot(bank_data['month'],data=bank_data,ax=ax2)\n",
    "ax2.set_xlabel('Month', fontsize=15)\n",
    "ax2.set_ylabel('Count', fontsize=15)\n",
    "ax2.set_title('Month vs Count', fontsize=15)\n",
    "ax2.tick_params(labelsize=10)"
   ]
  },
  {
   "cell_type": "markdown",
   "metadata": {},
   "source": [
    "#### Duration"
   ]
  },
  {
   "cell_type": "code",
   "execution_count": 46,
   "metadata": {},
   "outputs": [
    {
     "name": "stdout",
     "output_type": "stream",
     "text": [
      "Minimum duration calls in seconds:  0\n",
      "Maximum duration calls in seconds:  4918\n",
      "Mean duration calls in seconds:  258.1630797814691\n",
      "Median duration calls in seconds:  180.0\n",
      "Standard deviation:  257.52781226517095\n",
      "Null values:  False\n"
     ]
    }
   ],
   "source": [
    "#central Values\n",
    "print('Minimum duration calls in seconds: ', bank_data['duration'].min())\n",
    "print('Maximum duration calls in seconds: ',bank_data['duration'].max())\n",
    "print('Mean duration calls in seconds: ', bank_data['duration'].mean())\n",
    "print('Median duration calls in seconds: ',bank_data['duration'].median())\n",
    "print('Standard deviation: ', bank_data['duration'].std())\n",
    "print('Null values: ',bank_data['duration'].isnull().any())"
   ]
  },
  {
   "cell_type": "code",
   "execution_count": 47,
   "metadata": {},
   "outputs": [
    {
     "name": "stdout",
     "output_type": "stream",
     "text": [
      "1st Quartile (Q1) is:  103.0\n",
      "3st Quartile (Q3) is:  319.0\n"
     ]
    }
   ],
   "source": [
    "#Quartiles\n",
    "Q1=bank_data['duration'].quantile(q=0.25)\n",
    "Q3=bank_data['duration'].quantile(q=0.75)\n",
    "print('1st Quartile (Q1) is: ', Q1)\n",
    "print('3st Quartile (Q3) is: ', Q3)"
   ]
  },
  {
   "cell_type": "code",
   "execution_count": 48,
   "metadata": {},
   "outputs": [
    {
     "name": "stdout",
     "output_type": "stream",
     "text": [
      "Lower outliers in Duration:  -221.0\n",
      "Upper outliers in Duration:  643.0\n"
     ]
    }
   ],
   "source": [
    "#Outlier detection from Interquartile range (IQR)\n",
    "L_outliers=Q1-1.5*(Q3-Q1)\n",
    "U_outliers=Q3+1.5*(Q3-Q1)\n",
    "print('Lower outliers in Duration: ', L_outliers)\n",
    "print('Upper outliers in Duration: ', U_outliers)"
   ]
  },
  {
   "cell_type": "code",
   "execution_count": 49,
   "metadata": {},
   "outputs": [
    {
     "name": "stdout",
     "output_type": "stream",
     "text": [
      "Number of outliers in Duration upper :  3235\n",
      "Number of outliers in Balance lower :  0\n",
      "% of Outlier in Duration upper:  7.0 %\n",
      "% of Outlier in Duration lower:  0.0 %\n"
     ]
    }
   ],
   "source": [
    "print('Number of outliers in Duration upper : ', bank_data[bank_data['duration']>643]['duration'].count())\n",
    "print('Number of outliers in Balance lower : ', bank_data[bank_data['duration']<-221]['duration'].count())\n",
    "print('% of Outlier in Duration upper: ',round(bank_data[bank_data['duration']>643]['duration'].count()*100/len(bank_data)), '%')\n",
    "print('% of Outlier in Duration lower: ',round(bank_data[bank_data['duration']<-221]['duration'].count()*100/len(bank_data)), '%')"
   ]
  },
  {
   "cell_type": "code",
   "execution_count": 50,
   "metadata": {},
   "outputs": [
    {
     "data": {
      "image/png": "[encoded data removed]",
      "text/plain": [
       "<Figure size 936x360 with 3 Axes>"
      ]
     },
     "metadata": {
      "needs_background": "light"
     },
     "output_type": "display_data"
    }
   ],
   "source": [
    "\n",
    "fig, (ax1,ax2,ax3)=plt.subplots(1,3,figsize=(13,5))\n",
    "\n",
    "#boxplot\n",
    "sns.boxplot(x='duration',data=bank_data,orient='v',ax=ax1)\n",
    "ax1.set_xlabel('Calls', fontsize=15)\n",
    "ax1.set_ylabel('Duration in seconds', fontsize=15)\n",
    "ax1.set_title('Distribution of call duration', fontsize=15)\n",
    "ax1.tick_params(labelsize=15)\n",
    "\n",
    "#distplot\n",
    "sns.distplot(bank_data['duration'],ax=ax2)\n",
    "ax2.set_xlabel('Duration', fontsize=15)\n",
    "ax2.set_ylabel('Occurrence', fontsize=15)\n",
    "ax2.set_title('Duration vs Occurrence', fontsize=15)\n",
    "ax2.tick_params(labelsize=15)\n",
    "\n",
    "#histogram\n",
    "ax3.hist(bank_data['duration'])\n",
    "ax3.set_xlabel('Duration', fontsize=15)\n",
    "ax3.set_ylabel('Occurrence', fontsize=15)\n",
    "ax3.set_title('duration vs Occurrence', fontsize=15)\n",
    "ax3.tick_params(labelsize=15)\n",
    "\n",
    "plt.subplots_adjust(wspace=0.5)\n",
    "plt.tight_layout()"
   ]
  },
  {
   "cell_type": "markdown",
   "metadata": {},
   "source": [
    "#### poutcome"
   ]
  },
  {
   "cell_type": "code",
   "execution_count": 51,
   "metadata": {},
   "outputs": [
    {
     "name": "stdout",
     "output_type": "stream",
     "text": [
      "Poutcome: \n",
      " [unknown, failure, other, success]\n",
      "Categories (4, object): [unknown, failure, other, success]\n"
     ]
    }
   ],
   "source": [
    "print('Poutcome: \\n', bank_data['poutcome'].unique())"
   ]
  },
  {
   "cell_type": "code",
   "execution_count": 52,
   "metadata": {},
   "outputs": [
    {
     "name": "stdout",
     "output_type": "stream",
     "text": [
      "poutcome\n",
      "failure     4901\n",
      "other       1840\n",
      "success     1511\n",
      "unknown    36959\n",
      "dtype: int64\n"
     ]
    }
   ],
   "source": [
    "print(bank_data.groupby('poutcome').size())"
   ]
  },
  {
   "cell_type": "code",
   "execution_count": 53,
   "metadata": {},
   "outputs": [
    {
     "data": {
      "image/png": "[encoded data removed]",
      "text/plain": [
       "<Figure size 720x360 with 1 Axes>"
      ]
     },
     "metadata": {
      "needs_background": "light"
     },
     "output_type": "display_data"
    }
   ],
   "source": [
    "fig, ax=plt.subplots()\n",
    "fig.set_size_inches(10,5)\n",
    "\n",
    "#countplot\n",
    "sns.countplot(bank_data['poutcome'],data=bank_data)\n",
    "ax.set_xlabel('Poutcome', fontsize=15)\n",
    "ax.set_ylabel('Count', fontsize=15)\n",
    "ax.set_title('Poutcome vs Count', fontsize=15)\n",
    "ax.tick_params(labelsize=15)"
   ]
  },
  {
   "cell_type": "markdown",
   "metadata": {},
   "source": [
    "### Dependent attribute"
   ]
  },
  {
   "cell_type": "markdown",
   "metadata": {},
   "source": [
    "#### Target"
   ]
  },
  {
   "cell_type": "code",
   "execution_count": 54,
   "metadata": {},
   "outputs": [
    {
     "name": "stdout",
     "output_type": "stream",
     "text": [
      "Target: \n",
      " [no, yes]\n",
      "Categories (2, object): [no, yes]\n"
     ]
    }
   ],
   "source": [
    "print('Target: \\n', bank_data['Target'].unique())"
   ]
  },
  {
   "cell_type": "code",
   "execution_count": 55,
   "metadata": {},
   "outputs": [
    {
     "name": "stdout",
     "output_type": "stream",
     "text": [
      "Target\n",
      "no     39922\n",
      "yes     5289\n",
      "dtype: int64\n"
     ]
    }
   ],
   "source": [
    "print(bank_data.groupby('Target').size())"
   ]
  },
  {
   "cell_type": "code",
   "execution_count": 56,
   "metadata": {},
   "outputs": [
    {
     "data": {
      "image/png": "[encoded data removed]",
      "text/plain": [
       "<Figure size 720x360 with 1 Axes>"
      ]
     },
     "metadata": {
      "needs_background": "light"
     },
     "output_type": "display_data"
    }
   ],
   "source": [
    "fig, ax=plt.subplots()\n",
    "fig.set_size_inches(10,5)\n",
    "\n",
    "#countplot\n",
    "sns.countplot(bank_data['Target'],data=bank_data)\n",
    "ax.set_xlabel('Target', fontsize=15)\n",
    "ax.set_ylabel('Count', fontsize=15)\n",
    "ax.set_title('Target vs Count', fontsize=15)\n",
    "ax.tick_params(labelsize=15)"
   ]
  },
  {
   "cell_type": "markdown",
   "metadata": {},
   "source": [
    "Highly imbalance Target column as there are 39922 customers who do not have subscribed the term deposit and there are only 5289 customers who have subscribed the term deposit."
   ]
  },
  {
   "cell_type": "markdown",
   "metadata": {},
   "source": [
    "### Encode the categorical varibles"
   ]
  },
  {
   "cell_type": "code",
   "execution_count": 57,
   "metadata": {},
   "outputs": [],
   "source": [
    "#Encoding of categorical variables\n",
    "\n",
    "labelencoder_X=LabelEncoder()\n",
    "bank_data['job']=labelencoder_X.fit_transform(bank_data['job'])\n",
    "bank_data['marital']=labelencoder_X.fit_transform(bank_data['marital'])\n",
    "bank_data['education']=labelencoder_X.fit_transform(bank_data['education'])\n",
    "bank_data['default']=labelencoder_X.fit_transform(bank_data['default'])\n",
    "bank_data['housing']=labelencoder_X.fit_transform(bank_data['housing'])\n",
    "bank_data['loan']=labelencoder_X.fit_transform(bank_data['loan'])\n",
    "bank_data['contact']= labelencoder_X.fit_transform(bank_data['contact']) \n",
    "bank_data['month']= labelencoder_X.fit_transform(bank_data['month']) \n",
    "bank_data['poutcome'] = labelencoder_X.fit_transform(bank_data['poutcome'])\n",
    "bank_data['Target'] = labelencoder_X.fit_transform(bank_data['Target'])"
   ]
  },
  {
   "cell_type": "code",
   "execution_count": 58,
   "metadata": {},
   "outputs": [
    {
     "data": {
      "text/html": [
       "<div>\n",
       "<style scoped>\n",
       "    .dataframe tbody tr th:only-of-type {\n",
       "        vertical-align: middle;\n",
       "    }\n",
       "\n",
       "    .dataframe tbody tr th {\n",
       "        vertical-align: top;\n",
       "    }\n",
       "\n",
       "    .dataframe thead th {\n",
       "        text-align: right;\n",
       "    }\n",
       "</style>\n",
       "<table border=\"1\" class=\"dataframe\">\n",
       "  <thead>\n",
       "    <tr style=\"text-align: right;\">\n",
       "      <th></th>\n",
       "      <th>age</th>\n",
       "      <th>job</th>\n",
       "      <th>marital</th>\n",
       "      <th>education</th>\n",
       "      <th>default</th>\n",
       "      <th>balance</th>\n",
       "      <th>housing</th>\n",
       "      <th>loan</th>\n",
       "      <th>contact</th>\n",
       "      <th>day</th>\n",
       "      <th>month</th>\n",
       "      <th>duration</th>\n",
       "      <th>campaign</th>\n",
       "      <th>pdays</th>\n",
       "      <th>previous</th>\n",
       "      <th>poutcome</th>\n",
       "      <th>Target</th>\n",
       "    </tr>\n",
       "  </thead>\n",
       "  <tbody>\n",
       "    <tr>\n",
       "      <th>0</th>\n",
       "      <td>58</td>\n",
       "      <td>2</td>\n",
       "      <td>1</td>\n",
       "      <td>2</td>\n",
       "      <td>0</td>\n",
       "      <td>2143</td>\n",
       "      <td>1</td>\n",
       "      <td>0</td>\n",
       "      <td>2</td>\n",
       "      <td>5</td>\n",
       "      <td>8</td>\n",
       "      <td>261</td>\n",
       "      <td>1</td>\n",
       "      <td>-1</td>\n",
       "      <td>0</td>\n",
       "      <td>3</td>\n",
       "      <td>0</td>\n",
       "    </tr>\n",
       "    <tr>\n",
       "      <th>1</th>\n",
       "      <td>44</td>\n",
       "      <td>6</td>\n",
       "      <td>2</td>\n",
       "      <td>1</td>\n",
       "      <td>0</td>\n",
       "      <td>29</td>\n",
       "      <td>1</td>\n",
       "      <td>0</td>\n",
       "      <td>2</td>\n",
       "      <td>5</td>\n",
       "      <td>8</td>\n",
       "      <td>151</td>\n",
       "      <td>1</td>\n",
       "      <td>-1</td>\n",
       "      <td>0</td>\n",
       "      <td>3</td>\n",
       "      <td>0</td>\n",
       "    </tr>\n",
       "    <tr>\n",
       "      <th>2</th>\n",
       "      <td>33</td>\n",
       "      <td>1</td>\n",
       "      <td>1</td>\n",
       "      <td>1</td>\n",
       "      <td>0</td>\n",
       "      <td>2</td>\n",
       "      <td>1</td>\n",
       "      <td>1</td>\n",
       "      <td>2</td>\n",
       "      <td>5</td>\n",
       "      <td>8</td>\n",
       "      <td>76</td>\n",
       "      <td>1</td>\n",
       "      <td>-1</td>\n",
       "      <td>0</td>\n",
       "      <td>3</td>\n",
       "      <td>0</td>\n",
       "    </tr>\n",
       "    <tr>\n",
       "      <th>3</th>\n",
       "      <td>47</td>\n",
       "      <td>9</td>\n",
       "      <td>1</td>\n",
       "      <td>3</td>\n",
       "      <td>0</td>\n",
       "      <td>1506</td>\n",
       "      <td>1</td>\n",
       "      <td>0</td>\n",
       "      <td>2</td>\n",
       "      <td>5</td>\n",
       "      <td>8</td>\n",
       "      <td>92</td>\n",
       "      <td>1</td>\n",
       "      <td>-1</td>\n",
       "      <td>0</td>\n",
       "      <td>3</td>\n",
       "      <td>0</td>\n",
       "    </tr>\n",
       "    <tr>\n",
       "      <th>4</th>\n",
       "      <td>33</td>\n",
       "      <td>8</td>\n",
       "      <td>2</td>\n",
       "      <td>3</td>\n",
       "      <td>0</td>\n",
       "      <td>1</td>\n",
       "      <td>0</td>\n",
       "      <td>0</td>\n",
       "      <td>2</td>\n",
       "      <td>5</td>\n",
       "      <td>8</td>\n",
       "      <td>198</td>\n",
       "      <td>1</td>\n",
       "      <td>-1</td>\n",
       "      <td>0</td>\n",
       "      <td>3</td>\n",
       "      <td>0</td>\n",
       "    </tr>\n",
       "  </tbody>\n",
       "</table>\n",
       "</div>"
      ],
      "text/plain": [
       "   age  job  marital  education  default  balance  housing  loan  contact  \\\n",
       "0   58    2        1          2        0     2143        1     0        2   \n",
       "1   44    6        2          1        0       29        1     0        2   \n",
       "2   33    1        1          1        0        2        1     1        2   \n",
       "3   47    9        1          3        0     1506        1     0        2   \n",
       "4   33    8        2          3        0        1        0     0        2   \n",
       "\n",
       "   day  month  duration  campaign  pdays  previous  poutcome  Target  \n",
       "0    5      8       261         1     -1         0         3       0  \n",
       "1    5      8       151         1     -1         0         3       0  \n",
       "2    5      8        76         1     -1         0         3       0  \n",
       "3    5      8        92         1     -1         0         3       0  \n",
       "4    5      8       198         1     -1         0         3       0  "
      ]
     },
     "execution_count": 58,
     "metadata": {},
     "output_type": "execute_result"
    }
   ],
   "source": [
    "bank_data.head()"
   ]
  },
  {
   "cell_type": "code",
   "execution_count": 59,
   "metadata": {},
   "outputs": [
    {
     "data": {
      "text/html": [
       "<div>\n",
       "<style scoped>\n",
       "    .dataframe tbody tr th:only-of-type {\n",
       "        vertical-align: middle;\n",
       "    }\n",
       "\n",
       "    .dataframe tbody tr th {\n",
       "        vertical-align: top;\n",
       "    }\n",
       "\n",
       "    .dataframe thead th {\n",
       "        text-align: right;\n",
       "    }\n",
       "</style>\n",
       "<table border=\"1\" class=\"dataframe\">\n",
       "  <thead>\n",
       "    <tr style=\"text-align: right;\">\n",
       "      <th></th>\n",
       "      <th>age</th>\n",
       "      <th>job</th>\n",
       "      <th>marital</th>\n",
       "      <th>education</th>\n",
       "      <th>default</th>\n",
       "      <th>balance</th>\n",
       "      <th>housing</th>\n",
       "      <th>loan</th>\n",
       "      <th>contact</th>\n",
       "      <th>day</th>\n",
       "      <th>month</th>\n",
       "      <th>duration</th>\n",
       "      <th>campaign</th>\n",
       "      <th>pdays</th>\n",
       "      <th>previous</th>\n",
       "      <th>poutcome</th>\n",
       "      <th>Target</th>\n",
       "    </tr>\n",
       "  </thead>\n",
       "  <tbody>\n",
       "    <tr>\n",
       "      <th>45206</th>\n",
       "      <td>51</td>\n",
       "      <td>6</td>\n",
       "      <td>1</td>\n",
       "      <td>2</td>\n",
       "      <td>0</td>\n",
       "      <td>825</td>\n",
       "      <td>0</td>\n",
       "      <td>0</td>\n",
       "      <td>0</td>\n",
       "      <td>17</td>\n",
       "      <td>9</td>\n",
       "      <td>977</td>\n",
       "      <td>3</td>\n",
       "      <td>-1</td>\n",
       "      <td>0</td>\n",
       "      <td>3</td>\n",
       "      <td>1</td>\n",
       "    </tr>\n",
       "    <tr>\n",
       "      <th>45207</th>\n",
       "      <td>71</td>\n",
       "      <td>3</td>\n",
       "      <td>0</td>\n",
       "      <td>0</td>\n",
       "      <td>0</td>\n",
       "      <td>1729</td>\n",
       "      <td>0</td>\n",
       "      <td>0</td>\n",
       "      <td>0</td>\n",
       "      <td>17</td>\n",
       "      <td>9</td>\n",
       "      <td>456</td>\n",
       "      <td>2</td>\n",
       "      <td>-1</td>\n",
       "      <td>0</td>\n",
       "      <td>3</td>\n",
       "      <td>1</td>\n",
       "    </tr>\n",
       "    <tr>\n",
       "      <th>45208</th>\n",
       "      <td>72</td>\n",
       "      <td>3</td>\n",
       "      <td>1</td>\n",
       "      <td>1</td>\n",
       "      <td>0</td>\n",
       "      <td>5715</td>\n",
       "      <td>0</td>\n",
       "      <td>0</td>\n",
       "      <td>0</td>\n",
       "      <td>17</td>\n",
       "      <td>9</td>\n",
       "      <td>1127</td>\n",
       "      <td>5</td>\n",
       "      <td>184</td>\n",
       "      <td>3</td>\n",
       "      <td>2</td>\n",
       "      <td>1</td>\n",
       "    </tr>\n",
       "    <tr>\n",
       "      <th>45209</th>\n",
       "      <td>57</td>\n",
       "      <td>9</td>\n",
       "      <td>1</td>\n",
       "      <td>1</td>\n",
       "      <td>0</td>\n",
       "      <td>668</td>\n",
       "      <td>0</td>\n",
       "      <td>0</td>\n",
       "      <td>1</td>\n",
       "      <td>17</td>\n",
       "      <td>9</td>\n",
       "      <td>508</td>\n",
       "      <td>4</td>\n",
       "      <td>-1</td>\n",
       "      <td>0</td>\n",
       "      <td>3</td>\n",
       "      <td>0</td>\n",
       "    </tr>\n",
       "    <tr>\n",
       "      <th>45210</th>\n",
       "      <td>37</td>\n",
       "      <td>1</td>\n",
       "      <td>1</td>\n",
       "      <td>1</td>\n",
       "      <td>0</td>\n",
       "      <td>2971</td>\n",
       "      <td>0</td>\n",
       "      <td>0</td>\n",
       "      <td>0</td>\n",
       "      <td>17</td>\n",
       "      <td>9</td>\n",
       "      <td>361</td>\n",
       "      <td>2</td>\n",
       "      <td>188</td>\n",
       "      <td>11</td>\n",
       "      <td>1</td>\n",
       "      <td>0</td>\n",
       "    </tr>\n",
       "  </tbody>\n",
       "</table>\n",
       "</div>"
      ],
      "text/plain": [
       "       age  job  marital  education  default  balance  housing  loan  contact  \\\n",
       "45206   51    6        1          2        0      825        0     0        0   \n",
       "45207   71    3        0          0        0     1729        0     0        0   \n",
       "45208   72    3        1          1        0     5715        0     0        0   \n",
       "45209   57    9        1          1        0      668        0     0        1   \n",
       "45210   37    1        1          1        0     2971        0     0        0   \n",
       "\n",
       "       day  month  duration  campaign  pdays  previous  poutcome  Target  \n",
       "45206   17      9       977         3     -1         0         3       1  \n",
       "45207   17      9       456         2     -1         0         3       1  \n",
       "45208   17      9      1127         5    184         3         2       1  \n",
       "45209   17      9       508         4     -1         0         3       0  \n",
       "45210   17      9       361         2    188        11         1       0  "
      ]
     },
     "execution_count": 59,
     "metadata": {},
     "output_type": "execute_result"
    }
   ],
   "source": [
    "bank_data.tail()"
   ]
  },
  {
   "cell_type": "code",
   "execution_count": 60,
   "metadata": {},
   "outputs": [
    {
     "data": {
      "text/html": [
       "<div>\n",
       "<style scoped>\n",
       "    .dataframe tbody tr th:only-of-type {\n",
       "        vertical-align: middle;\n",
       "    }\n",
       "\n",
       "    .dataframe tbody tr th {\n",
       "        vertical-align: top;\n",
       "    }\n",
       "\n",
       "    .dataframe thead th {\n",
       "        text-align: right;\n",
       "    }\n",
       "</style>\n",
       "<table border=\"1\" class=\"dataframe\">\n",
       "  <thead>\n",
       "    <tr style=\"text-align: right;\">\n",
       "      <th></th>\n",
       "      <th>count</th>\n",
       "      <th>mean</th>\n",
       "      <th>std</th>\n",
       "      <th>min</th>\n",
       "      <th>25%</th>\n",
       "      <th>50%</th>\n",
       "      <th>75%</th>\n",
       "      <th>max</th>\n",
       "    </tr>\n",
       "  </thead>\n",
       "  <tbody>\n",
       "    <tr>\n",
       "      <th>age</th>\n",
       "      <td>45211.0</td>\n",
       "      <td>40.936210</td>\n",
       "      <td>10.618762</td>\n",
       "      <td>18.0</td>\n",
       "      <td>33.0</td>\n",
       "      <td>39.0</td>\n",
       "      <td>48.0</td>\n",
       "      <td>95.0</td>\n",
       "    </tr>\n",
       "    <tr>\n",
       "      <th>job</th>\n",
       "      <td>45211.0</td>\n",
       "      <td>4.473779</td>\n",
       "      <td>3.205847</td>\n",
       "      <td>0.0</td>\n",
       "      <td>2.0</td>\n",
       "      <td>4.0</td>\n",
       "      <td>7.0</td>\n",
       "      <td>9.0</td>\n",
       "    </tr>\n",
       "    <tr>\n",
       "      <th>marital</th>\n",
       "      <td>45211.0</td>\n",
       "      <td>1.167725</td>\n",
       "      <td>0.608230</td>\n",
       "      <td>0.0</td>\n",
       "      <td>1.0</td>\n",
       "      <td>1.0</td>\n",
       "      <td>2.0</td>\n",
       "      <td>2.0</td>\n",
       "    </tr>\n",
       "    <tr>\n",
       "      <th>education</th>\n",
       "      <td>45211.0</td>\n",
       "      <td>1.224813</td>\n",
       "      <td>0.747997</td>\n",
       "      <td>0.0</td>\n",
       "      <td>1.0</td>\n",
       "      <td>1.0</td>\n",
       "      <td>2.0</td>\n",
       "      <td>3.0</td>\n",
       "    </tr>\n",
       "    <tr>\n",
       "      <th>default</th>\n",
       "      <td>45211.0</td>\n",
       "      <td>0.018027</td>\n",
       "      <td>0.133049</td>\n",
       "      <td>0.0</td>\n",
       "      <td>0.0</td>\n",
       "      <td>0.0</td>\n",
       "      <td>0.0</td>\n",
       "      <td>1.0</td>\n",
       "    </tr>\n",
       "    <tr>\n",
       "      <th>balance</th>\n",
       "      <td>45211.0</td>\n",
       "      <td>1362.272058</td>\n",
       "      <td>3044.765829</td>\n",
       "      <td>-8019.0</td>\n",
       "      <td>72.0</td>\n",
       "      <td>448.0</td>\n",
       "      <td>1428.0</td>\n",
       "      <td>102127.0</td>\n",
       "    </tr>\n",
       "    <tr>\n",
       "      <th>housing</th>\n",
       "      <td>45211.0</td>\n",
       "      <td>0.555838</td>\n",
       "      <td>0.496878</td>\n",
       "      <td>0.0</td>\n",
       "      <td>0.0</td>\n",
       "      <td>1.0</td>\n",
       "      <td>1.0</td>\n",
       "      <td>1.0</td>\n",
       "    </tr>\n",
       "    <tr>\n",
       "      <th>loan</th>\n",
       "      <td>45211.0</td>\n",
       "      <td>0.160226</td>\n",
       "      <td>0.366820</td>\n",
       "      <td>0.0</td>\n",
       "      <td>0.0</td>\n",
       "      <td>0.0</td>\n",
       "      <td>0.0</td>\n",
       "      <td>1.0</td>\n",
       "    </tr>\n",
       "    <tr>\n",
       "      <th>contact</th>\n",
       "      <td>45211.0</td>\n",
       "      <td>0.640242</td>\n",
       "      <td>0.897951</td>\n",
       "      <td>0.0</td>\n",
       "      <td>0.0</td>\n",
       "      <td>0.0</td>\n",
       "      <td>2.0</td>\n",
       "      <td>2.0</td>\n",
       "    </tr>\n",
       "    <tr>\n",
       "      <th>day</th>\n",
       "      <td>45211.0</td>\n",
       "      <td>15.806419</td>\n",
       "      <td>8.322476</td>\n",
       "      <td>1.0</td>\n",
       "      <td>8.0</td>\n",
       "      <td>16.0</td>\n",
       "      <td>21.0</td>\n",
       "      <td>31.0</td>\n",
       "    </tr>\n",
       "    <tr>\n",
       "      <th>month</th>\n",
       "      <td>45211.0</td>\n",
       "      <td>5.523014</td>\n",
       "      <td>3.006911</td>\n",
       "      <td>0.0</td>\n",
       "      <td>3.0</td>\n",
       "      <td>6.0</td>\n",
       "      <td>8.0</td>\n",
       "      <td>11.0</td>\n",
       "    </tr>\n",
       "    <tr>\n",
       "      <th>duration</th>\n",
       "      <td>45211.0</td>\n",
       "      <td>258.163080</td>\n",
       "      <td>257.527812</td>\n",
       "      <td>0.0</td>\n",
       "      <td>103.0</td>\n",
       "      <td>180.0</td>\n",
       "      <td>319.0</td>\n",
       "      <td>4918.0</td>\n",
       "    </tr>\n",
       "    <tr>\n",
       "      <th>campaign</th>\n",
       "      <td>45211.0</td>\n",
       "      <td>2.763841</td>\n",
       "      <td>3.098021</td>\n",
       "      <td>1.0</td>\n",
       "      <td>1.0</td>\n",
       "      <td>2.0</td>\n",
       "      <td>3.0</td>\n",
       "      <td>63.0</td>\n",
       "    </tr>\n",
       "    <tr>\n",
       "      <th>pdays</th>\n",
       "      <td>45211.0</td>\n",
       "      <td>40.197828</td>\n",
       "      <td>100.128746</td>\n",
       "      <td>-1.0</td>\n",
       "      <td>-1.0</td>\n",
       "      <td>-1.0</td>\n",
       "      <td>-1.0</td>\n",
       "      <td>871.0</td>\n",
       "    </tr>\n",
       "    <tr>\n",
       "      <th>previous</th>\n",
       "      <td>45211.0</td>\n",
       "      <td>0.580323</td>\n",
       "      <td>2.303441</td>\n",
       "      <td>0.0</td>\n",
       "      <td>0.0</td>\n",
       "      <td>0.0</td>\n",
       "      <td>0.0</td>\n",
       "      <td>275.0</td>\n",
       "    </tr>\n",
       "    <tr>\n",
       "      <th>poutcome</th>\n",
       "      <td>45211.0</td>\n",
       "      <td>2.559974</td>\n",
       "      <td>0.989059</td>\n",
       "      <td>0.0</td>\n",
       "      <td>3.0</td>\n",
       "      <td>3.0</td>\n",
       "      <td>3.0</td>\n",
       "      <td>3.0</td>\n",
       "    </tr>\n",
       "    <tr>\n",
       "      <th>Target</th>\n",
       "      <td>45211.0</td>\n",
       "      <td>0.116985</td>\n",
       "      <td>0.321406</td>\n",
       "      <td>0.0</td>\n",
       "      <td>0.0</td>\n",
       "      <td>0.0</td>\n",
       "      <td>0.0</td>\n",
       "      <td>1.0</td>\n",
       "    </tr>\n",
       "  </tbody>\n",
       "</table>\n",
       "</div>"
      ],
      "text/plain": [
       "             count         mean          std     min    25%    50%     75%  \\\n",
       "age        45211.0    40.936210    10.618762    18.0   33.0   39.0    48.0   \n",
       "job        45211.0     4.473779     3.205847     0.0    2.0    4.0     7.0   \n",
       "marital    45211.0     1.167725     0.608230     0.0    1.0    1.0     2.0   \n",
       "education  45211.0     1.224813     0.747997     0.0    1.0    1.0     2.0   \n",
       "default    45211.0     0.018027     0.133049     0.0    0.0    0.0     0.0   \n",
       "balance    45211.0  1362.272058  3044.765829 -8019.0   72.0  448.0  1428.0   \n",
       "housing    45211.0     0.555838     0.496878     0.0    0.0    1.0     1.0   \n",
       "loan       45211.0     0.160226     0.366820     0.0    0.0    0.0     0.0   \n",
       "contact    45211.0     0.640242     0.897951     0.0    0.0    0.0     2.0   \n",
       "day        45211.0    15.806419     8.322476     1.0    8.0   16.0    21.0   \n",
       "month      45211.0     5.523014     3.006911     0.0    3.0    6.0     8.0   \n",
       "duration   45211.0   258.163080   257.527812     0.0  103.0  180.0   319.0   \n",
       "campaign   45211.0     2.763841     3.098021     1.0    1.0    2.0     3.0   \n",
       "pdays      45211.0    40.197828   100.128746    -1.0   -1.0   -1.0    -1.0   \n",
       "previous   45211.0     0.580323     2.303441     0.0    0.0    0.0     0.0   \n",
       "poutcome   45211.0     2.559974     0.989059     0.0    3.0    3.0     3.0   \n",
       "Target     45211.0     0.116985     0.321406     0.0    0.0    0.0     0.0   \n",
       "\n",
       "                max  \n",
       "age            95.0  \n",
       "job             9.0  \n",
       "marital         2.0  \n",
       "education       3.0  \n",
       "default         1.0  \n",
       "balance    102127.0  \n",
       "housing         1.0  \n",
       "loan            1.0  \n",
       "contact         2.0  \n",
       "day            31.0  \n",
       "month          11.0  \n",
       "duration     4918.0  \n",
       "campaign       63.0  \n",
       "pdays         871.0  \n",
       "previous      275.0  \n",
       "poutcome        3.0  \n",
       "Target          1.0  "
      ]
     },
     "execution_count": 60,
     "metadata": {},
     "output_type": "execute_result"
    }
   ],
   "source": [
    "bank_data.describe().T"
   ]
  },
  {
   "cell_type": "markdown",
   "metadata": {},
   "source": [
    "## Multivariate Analysis"
   ]
  },
  {
   "cell_type": "markdown",
   "metadata": {},
   "source": [
    "### Visualization"
   ]
  },
  {
   "cell_type": "code",
   "execution_count": 61,
   "metadata": {},
   "outputs": [
    {
     "data": {
      "text/html": [
       "<div>\n",
       "<style scoped>\n",
       "    .dataframe tbody tr th:only-of-type {\n",
       "        vertical-align: middle;\n",
       "    }\n",
       "\n",
       "    .dataframe tbody tr th {\n",
       "        vertical-align: top;\n",
       "    }\n",
       "\n",
       "    .dataframe thead th {\n",
       "        text-align: right;\n",
       "    }\n",
       "</style>\n",
       "<table border=\"1\" class=\"dataframe\">\n",
       "  <thead>\n",
       "    <tr style=\"text-align: right;\">\n",
       "      <th></th>\n",
       "      <th>age</th>\n",
       "      <th>job</th>\n",
       "      <th>marital</th>\n",
       "      <th>education</th>\n",
       "      <th>default</th>\n",
       "      <th>balance</th>\n",
       "      <th>housing</th>\n",
       "      <th>loan</th>\n",
       "      <th>contact</th>\n",
       "      <th>day</th>\n",
       "      <th>month</th>\n",
       "      <th>duration</th>\n",
       "      <th>campaign</th>\n",
       "      <th>pdays</th>\n",
       "      <th>previous</th>\n",
       "      <th>poutcome</th>\n",
       "      <th>Target</th>\n",
       "    </tr>\n",
       "  </thead>\n",
       "  <tbody>\n",
       "    <tr>\n",
       "      <th>age</th>\n",
       "      <td>1.000000</td>\n",
       "      <td>-0.019980</td>\n",
       "      <td>-0.403240</td>\n",
       "      <td>-0.106807</td>\n",
       "      <td>-0.017879</td>\n",
       "      <td>0.097783</td>\n",
       "      <td>-0.185513</td>\n",
       "      <td>-0.015655</td>\n",
       "      <td>0.026221</td>\n",
       "      <td>-0.009120</td>\n",
       "      <td>-0.042357</td>\n",
       "      <td>-0.004648</td>\n",
       "      <td>0.004760</td>\n",
       "      <td>-0.023758</td>\n",
       "      <td>0.001288</td>\n",
       "      <td>0.007367</td>\n",
       "      <td>0.025155</td>\n",
       "    </tr>\n",
       "    <tr>\n",
       "      <th>job</th>\n",
       "      <td>-0.019980</td>\n",
       "      <td>1.000000</td>\n",
       "      <td>-0.012009</td>\n",
       "      <td>-0.320070</td>\n",
       "      <td>0.006475</td>\n",
       "      <td>-0.036583</td>\n",
       "      <td>0.066957</td>\n",
       "      <td>-0.015011</td>\n",
       "      <td>0.094748</td>\n",
       "      <td>-0.007327</td>\n",
       "      <td>0.015160</td>\n",
       "      <td>0.010794</td>\n",
       "      <td>0.015967</td>\n",
       "      <td>-0.007486</td>\n",
       "      <td>-0.023964</td>\n",
       "      <td>0.023881</td>\n",
       "      <td>-0.053212</td>\n",
       "    </tr>\n",
       "    <tr>\n",
       "      <th>marital</th>\n",
       "      <td>-0.403240</td>\n",
       "      <td>-0.012009</td>\n",
       "      <td>1.000000</td>\n",
       "      <td>0.108576</td>\n",
       "      <td>-0.007023</td>\n",
       "      <td>0.002122</td>\n",
       "      <td>-0.016096</td>\n",
       "      <td>-0.046893</td>\n",
       "      <td>-0.039201</td>\n",
       "      <td>-0.005261</td>\n",
       "      <td>-0.006991</td>\n",
       "      <td>0.011852</td>\n",
       "      <td>-0.008994</td>\n",
       "      <td>0.019172</td>\n",
       "      <td>0.014973</td>\n",
       "      <td>-0.016850</td>\n",
       "      <td>0.045588</td>\n",
       "    </tr>\n",
       "    <tr>\n",
       "      <th>education</th>\n",
       "      <td>-0.106807</td>\n",
       "      <td>-0.320070</td>\n",
       "      <td>0.108576</td>\n",
       "      <td>1.000000</td>\n",
       "      <td>-0.010718</td>\n",
       "      <td>0.064514</td>\n",
       "      <td>-0.090790</td>\n",
       "      <td>-0.048574</td>\n",
       "      <td>-0.110928</td>\n",
       "      <td>0.022671</td>\n",
       "      <td>-0.057304</td>\n",
       "      <td>0.001935</td>\n",
       "      <td>0.006255</td>\n",
       "      <td>0.000052</td>\n",
       "      <td>0.017570</td>\n",
       "      <td>-0.019361</td>\n",
       "      <td>0.066241</td>\n",
       "    </tr>\n",
       "    <tr>\n",
       "      <th>default</th>\n",
       "      <td>-0.017879</td>\n",
       "      <td>0.006475</td>\n",
       "      <td>-0.007023</td>\n",
       "      <td>-0.010718</td>\n",
       "      <td>1.000000</td>\n",
       "      <td>-0.066745</td>\n",
       "      <td>-0.006025</td>\n",
       "      <td>0.077234</td>\n",
       "      <td>0.015404</td>\n",
       "      <td>0.009424</td>\n",
       "      <td>0.011486</td>\n",
       "      <td>-0.010021</td>\n",
       "      <td>0.016822</td>\n",
       "      <td>-0.029979</td>\n",
       "      <td>-0.018329</td>\n",
       "      <td>0.034898</td>\n",
       "      <td>-0.022419</td>\n",
       "    </tr>\n",
       "    <tr>\n",
       "      <th>balance</th>\n",
       "      <td>0.097783</td>\n",
       "      <td>-0.036583</td>\n",
       "      <td>0.002122</td>\n",
       "      <td>0.064514</td>\n",
       "      <td>-0.066745</td>\n",
       "      <td>1.000000</td>\n",
       "      <td>-0.068768</td>\n",
       "      <td>-0.084350</td>\n",
       "      <td>-0.027273</td>\n",
       "      <td>0.004503</td>\n",
       "      <td>0.019777</td>\n",
       "      <td>0.021560</td>\n",
       "      <td>-0.014578</td>\n",
       "      <td>0.003435</td>\n",
       "      <td>0.016674</td>\n",
       "      <td>-0.020967</td>\n",
       "      <td>0.052838</td>\n",
       "    </tr>\n",
       "    <tr>\n",
       "      <th>housing</th>\n",
       "      <td>-0.185513</td>\n",
       "      <td>0.066957</td>\n",
       "      <td>-0.016096</td>\n",
       "      <td>-0.090790</td>\n",
       "      <td>-0.006025</td>\n",
       "      <td>-0.068768</td>\n",
       "      <td>1.000000</td>\n",
       "      <td>0.041323</td>\n",
       "      <td>0.188123</td>\n",
       "      <td>-0.027982</td>\n",
       "      <td>0.271481</td>\n",
       "      <td>0.005075</td>\n",
       "      <td>-0.023599</td>\n",
       "      <td>0.124178</td>\n",
       "      <td>0.037076</td>\n",
       "      <td>-0.099971</td>\n",
       "      <td>-0.139173</td>\n",
       "    </tr>\n",
       "    <tr>\n",
       "      <th>loan</th>\n",
       "      <td>-0.015655</td>\n",
       "      <td>-0.015011</td>\n",
       "      <td>-0.046893</td>\n",
       "      <td>-0.048574</td>\n",
       "      <td>0.077234</td>\n",
       "      <td>-0.084350</td>\n",
       "      <td>0.041323</td>\n",
       "      <td>1.000000</td>\n",
       "      <td>-0.010873</td>\n",
       "      <td>0.011370</td>\n",
       "      <td>0.022145</td>\n",
       "      <td>-0.012412</td>\n",
       "      <td>0.009980</td>\n",
       "      <td>-0.022754</td>\n",
       "      <td>-0.011043</td>\n",
       "      <td>0.015458</td>\n",
       "      <td>-0.068185</td>\n",
       "    </tr>\n",
       "    <tr>\n",
       "      <th>contact</th>\n",
       "      <td>0.026221</td>\n",
       "      <td>0.094748</td>\n",
       "      <td>-0.039201</td>\n",
       "      <td>-0.110928</td>\n",
       "      <td>0.015404</td>\n",
       "      <td>-0.027273</td>\n",
       "      <td>0.188123</td>\n",
       "      <td>-0.010873</td>\n",
       "      <td>1.000000</td>\n",
       "      <td>-0.027936</td>\n",
       "      <td>0.361145</td>\n",
       "      <td>-0.020839</td>\n",
       "      <td>0.019614</td>\n",
       "      <td>-0.244816</td>\n",
       "      <td>-0.147811</td>\n",
       "      <td>0.272214</td>\n",
       "      <td>-0.148395</td>\n",
       "    </tr>\n",
       "    <tr>\n",
       "      <th>day</th>\n",
       "      <td>-0.009120</td>\n",
       "      <td>-0.007327</td>\n",
       "      <td>-0.005261</td>\n",
       "      <td>0.022671</td>\n",
       "      <td>0.009424</td>\n",
       "      <td>0.004503</td>\n",
       "      <td>-0.027982</td>\n",
       "      <td>0.011370</td>\n",
       "      <td>-0.027936</td>\n",
       "      <td>1.000000</td>\n",
       "      <td>-0.006028</td>\n",
       "      <td>-0.030206</td>\n",
       "      <td>0.162490</td>\n",
       "      <td>-0.093044</td>\n",
       "      <td>-0.051710</td>\n",
       "      <td>0.083460</td>\n",
       "      <td>-0.028348</td>\n",
       "    </tr>\n",
       "    <tr>\n",
       "      <th>month</th>\n",
       "      <td>-0.042357</td>\n",
       "      <td>0.015160</td>\n",
       "      <td>-0.006991</td>\n",
       "      <td>-0.057304</td>\n",
       "      <td>0.011486</td>\n",
       "      <td>0.019777</td>\n",
       "      <td>0.271481</td>\n",
       "      <td>0.022145</td>\n",
       "      <td>0.361145</td>\n",
       "      <td>-0.006028</td>\n",
       "      <td>1.000000</td>\n",
       "      <td>0.006314</td>\n",
       "      <td>-0.110031</td>\n",
       "      <td>0.033065</td>\n",
       "      <td>0.022727</td>\n",
       "      <td>-0.033038</td>\n",
       "      <td>-0.024471</td>\n",
       "    </tr>\n",
       "    <tr>\n",
       "      <th>duration</th>\n",
       "      <td>-0.004648</td>\n",
       "      <td>0.010794</td>\n",
       "      <td>0.011852</td>\n",
       "      <td>0.001935</td>\n",
       "      <td>-0.010021</td>\n",
       "      <td>0.021560</td>\n",
       "      <td>0.005075</td>\n",
       "      <td>-0.012412</td>\n",
       "      <td>-0.020839</td>\n",
       "      <td>-0.030206</td>\n",
       "      <td>0.006314</td>\n",
       "      <td>1.000000</td>\n",
       "      <td>-0.084570</td>\n",
       "      <td>-0.001565</td>\n",
       "      <td>0.001203</td>\n",
       "      <td>0.010925</td>\n",
       "      <td>0.394521</td>\n",
       "    </tr>\n",
       "    <tr>\n",
       "      <th>campaign</th>\n",
       "      <td>0.004760</td>\n",
       "      <td>0.015967</td>\n",
       "      <td>-0.008994</td>\n",
       "      <td>0.006255</td>\n",
       "      <td>0.016822</td>\n",
       "      <td>-0.014578</td>\n",
       "      <td>-0.023599</td>\n",
       "      <td>0.009980</td>\n",
       "      <td>0.019614</td>\n",
       "      <td>0.162490</td>\n",
       "      <td>-0.110031</td>\n",
       "      <td>-0.084570</td>\n",
       "      <td>1.000000</td>\n",
       "      <td>-0.088628</td>\n",
       "      <td>-0.032855</td>\n",
       "      <td>0.101588</td>\n",
       "      <td>-0.073172</td>\n",
       "    </tr>\n",
       "    <tr>\n",
       "      <th>pdays</th>\n",
       "      <td>-0.023758</td>\n",
       "      <td>-0.007486</td>\n",
       "      <td>0.019172</td>\n",
       "      <td>0.000052</td>\n",
       "      <td>-0.029979</td>\n",
       "      <td>0.003435</td>\n",
       "      <td>0.124178</td>\n",
       "      <td>-0.022754</td>\n",
       "      <td>-0.244816</td>\n",
       "      <td>-0.093044</td>\n",
       "      <td>0.033065</td>\n",
       "      <td>-0.001565</td>\n",
       "      <td>-0.088628</td>\n",
       "      <td>1.000000</td>\n",
       "      <td>0.454820</td>\n",
       "      <td>-0.858362</td>\n",
       "      <td>0.103621</td>\n",
       "    </tr>\n",
       "    <tr>\n",
       "      <th>previous</th>\n",
       "      <td>0.001288</td>\n",
       "      <td>-0.023964</td>\n",
       "      <td>0.014973</td>\n",
       "      <td>0.017570</td>\n",
       "      <td>-0.018329</td>\n",
       "      <td>0.016674</td>\n",
       "      <td>0.037076</td>\n",
       "      <td>-0.011043</td>\n",
       "      <td>-0.147811</td>\n",
       "      <td>-0.051710</td>\n",
       "      <td>0.022727</td>\n",
       "      <td>0.001203</td>\n",
       "      <td>-0.032855</td>\n",
       "      <td>0.454820</td>\n",
       "      <td>1.000000</td>\n",
       "      <td>-0.489752</td>\n",
       "      <td>0.093236</td>\n",
       "    </tr>\n",
       "    <tr>\n",
       "      <th>poutcome</th>\n",
       "      <td>0.007367</td>\n",
       "      <td>0.023881</td>\n",
       "      <td>-0.016850</td>\n",
       "      <td>-0.019361</td>\n",
       "      <td>0.034898</td>\n",
       "      <td>-0.020967</td>\n",
       "      <td>-0.099971</td>\n",
       "      <td>0.015458</td>\n",
       "      <td>0.272214</td>\n",
       "      <td>0.083460</td>\n",
       "      <td>-0.033038</td>\n",
       "      <td>0.010925</td>\n",
       "      <td>0.101588</td>\n",
       "      <td>-0.858362</td>\n",
       "      <td>-0.489752</td>\n",
       "      <td>1.000000</td>\n",
       "      <td>-0.077840</td>\n",
       "    </tr>\n",
       "    <tr>\n",
       "      <th>Target</th>\n",
       "      <td>0.025155</td>\n",
       "      <td>-0.053212</td>\n",
       "      <td>0.045588</td>\n",
       "      <td>0.066241</td>\n",
       "      <td>-0.022419</td>\n",
       "      <td>0.052838</td>\n",
       "      <td>-0.139173</td>\n",
       "      <td>-0.068185</td>\n",
       "      <td>-0.148395</td>\n",
       "      <td>-0.028348</td>\n",
       "      <td>-0.024471</td>\n",
       "      <td>0.394521</td>\n",
       "      <td>-0.073172</td>\n",
       "      <td>0.103621</td>\n",
       "      <td>0.093236</td>\n",
       "      <td>-0.077840</td>\n",
       "      <td>1.000000</td>\n",
       "    </tr>\n",
       "  </tbody>\n",
       "</table>\n",
       "</div>"
      ],
      "text/plain": [
       "                age       job   marital  education   default   balance  \\\n",
       "age        1.000000 -0.019980 -0.403240  -0.106807 -0.017879  0.097783   \n",
       "job       -0.019980  1.000000 -0.012009  -0.320070  0.006475 -0.036583   \n",
       "marital   -0.403240 -0.012009  1.000000   0.108576 -0.007023  0.002122   \n",
       "education -0.106807 -0.320070  0.108576   1.000000 -0.010718  0.064514   \n",
       "default   -0.017879  0.006475 -0.007023  -0.010718  1.000000 -0.066745   \n",
       "balance    0.097783 -0.036583  0.002122   0.064514 -0.066745  1.000000   \n",
       "housing   -0.185513  0.066957 -0.016096  -0.090790 -0.006025 -0.068768   \n",
       "loan      -0.015655 -0.015011 -0.046893  -0.048574  0.077234 -0.084350   \n",
       "contact    0.026221  0.094748 -0.039201  -0.110928  0.015404 -0.027273   \n",
       "day       -0.009120 -0.007327 -0.005261   0.022671  0.009424  0.004503   \n",
       "month     -0.042357  0.015160 -0.006991  -0.057304  0.011486  0.019777   \n",
       "duration  -0.004648  0.010794  0.011852   0.001935 -0.010021  0.021560   \n",
       "campaign   0.004760  0.015967 -0.008994   0.006255  0.016822 -0.014578   \n",
       "pdays     -0.023758 -0.007486  0.019172   0.000052 -0.029979  0.003435   \n",
       "previous   0.001288 -0.023964  0.014973   0.017570 -0.018329  0.016674   \n",
       "poutcome   0.007367  0.023881 -0.016850  -0.019361  0.034898 -0.020967   \n",
       "Target     0.025155 -0.053212  0.045588   0.066241 -0.022419  0.052838   \n",
       "\n",
       "            housing      loan   contact       day     month  duration  \\\n",
       "age       -0.185513 -0.015655  0.026221 -0.009120 -0.042357 -0.004648   \n",
       "job        0.066957 -0.015011  0.094748 -0.007327  0.015160  0.010794   \n",
       "marital   -0.016096 -0.046893 -0.039201 -0.005261 -0.006991  0.011852   \n",
       "education -0.090790 -0.048574 -0.110928  0.022671 -0.057304  0.001935   \n",
       "default   -0.006025  0.077234  0.015404  0.009424  0.011486 -0.010021   \n",
       "balance   -0.068768 -0.084350 -0.027273  0.004503  0.019777  0.021560   \n",
       "housing    1.000000  0.041323  0.188123 -0.027982  0.271481  0.005075   \n",
       "loan       0.041323  1.000000 -0.010873  0.011370  0.022145 -0.012412   \n",
       "contact    0.188123 -0.010873  1.000000 -0.027936  0.361145 -0.020839   \n",
       "day       -0.027982  0.011370 -0.027936  1.000000 -0.006028 -0.030206   \n",
       "month      0.271481  0.022145  0.361145 -0.006028  1.000000  0.006314   \n",
       "duration   0.005075 -0.012412 -0.020839 -0.030206  0.006314  1.000000   \n",
       "campaign  -0.023599  0.009980  0.019614  0.162490 -0.110031 -0.084570   \n",
       "pdays      0.124178 -0.022754 -0.244816 -0.093044  0.033065 -0.001565   \n",
       "previous   0.037076 -0.011043 -0.147811 -0.051710  0.022727  0.001203   \n",
       "poutcome  -0.099971  0.015458  0.272214  0.083460 -0.033038  0.010925   \n",
       "Target    -0.139173 -0.068185 -0.148395 -0.028348 -0.024471  0.394521   \n",
       "\n",
       "           campaign     pdays  previous  poutcome    Target  \n",
       "age        0.004760 -0.023758  0.001288  0.007367  0.025155  \n",
       "job        0.015967 -0.007486 -0.023964  0.023881 -0.053212  \n",
       "marital   -0.008994  0.019172  0.014973 -0.016850  0.045588  \n",
       "education  0.006255  0.000052  0.017570 -0.019361  0.066241  \n",
       "default    0.016822 -0.029979 -0.018329  0.034898 -0.022419  \n",
       "balance   -0.014578  0.003435  0.016674 -0.020967  0.052838  \n",
       "housing   -0.023599  0.124178  0.037076 -0.099971 -0.139173  \n",
       "loan       0.009980 -0.022754 -0.011043  0.015458 -0.068185  \n",
       "contact    0.019614 -0.244816 -0.147811  0.272214 -0.148395  \n",
       "day        0.162490 -0.093044 -0.051710  0.083460 -0.028348  \n",
       "month     -0.110031  0.033065  0.022727 -0.033038 -0.024471  \n",
       "duration  -0.084570 -0.001565  0.001203  0.010925  0.394521  \n",
       "campaign   1.000000 -0.088628 -0.032855  0.101588 -0.073172  \n",
       "pdays     -0.088628  1.000000  0.454820 -0.858362  0.103621  \n",
       "previous  -0.032855  0.454820  1.000000 -0.489752  0.093236  \n",
       "poutcome   0.101588 -0.858362 -0.489752  1.000000 -0.077840  \n",
       "Target    -0.073172  0.103621  0.093236 -0.077840  1.000000  "
      ]
     },
     "execution_count": 61,
     "metadata": {},
     "output_type": "execute_result"
    }
   ],
   "source": [
    "# corrlation matrix \n",
    "cor=bank_data.corr()\n",
    "cor"
   ]
  },
  {
   "cell_type": "code",
   "execution_count": 62,
   "metadata": {},
   "outputs": [
    {
     "data": {
      "image/png": "[encoded data removed]",
      "text/plain": [
       "<Figure size 1296x1080 with 1 Axes>"
      ]
     },
     "metadata": {},
     "output_type": "display_data"
    }
   ],
   "source": [
    "# correlation plot---heatmap\n",
    "sns.set(font_scale=1.15)\n",
    "fig,ax=plt.subplots(figsize=(18,15))\n",
    "sns.heatmap(cor,vmin=0.8,cmap='cividis', annot=True,linewidths=0.01,center=0,linecolor=\"white\",cbar=False,square=True)\n",
    "plt.title('Correlation between attributes',fontsize=18)\n",
    "ax.tick_params(labelsize=18)"
   ]
  },
  {
   "cell_type": "code",
   "execution_count": null,
   "metadata": {},
   "outputs": [
    {
     "name": "stderr",
     "output_type": "stream",
     "text": [
      "C:\\Users\\abhole\\AppData\\Local\\Continuum\\anaconda3\\lib\\site-packages\\statsmodels\\nonparametric\\kde.py:488: RuntimeWarning: invalid value encountered in true_divide\n",
      "  binned = fast_linbin(X, a, b, gridsize) / (delta * nobs)\n",
      "C:\\Users\\abhole\\AppData\\Local\\Continuum\\anaconda3\\lib\\site-packages\\statsmodels\\nonparametric\\kdetools.py:34: RuntimeWarning: invalid value encountered in double_scalars\n",
      "  FAC1 = 2*(np.pi*bw/RANGE)**2\n"
     ]
    }
   ],
   "source": [
    "\n",
    "sns.pairplot(bank_data,hue='Target')"
   ]
  },
  {
   "cell_type": "markdown",
   "metadata": {},
   "source": [
    "### Analysis of Continous attributes ( Age, balance) vs Categorical attribute (Target)"
   ]
  },
  {
   "cell_type": "code",
   "execution_count": 63,
   "metadata": {},
   "outputs": [
    {
     "data": {
      "image/png": "[encoded data removed]",
      "text/plain": [
       "<Figure size 864x576 with 4 Axes>"
      ]
     },
     "metadata": {},
     "output_type": "display_data"
    }
   ],
   "source": [
    "fig, ax=plt.subplots(2,2,figsize=(12,8))\n",
    "# Categorical vs Continuous ----Target vs Age\n",
    "#boxplot\n",
    "sns.boxplot(x=\"Target\", y=\"age\", data=bank_data,ax=ax[0][0])\n",
    "\n",
    "#barplot\n",
    "sns.barplot(x=\"Target\", y=\"age\", data=bank_data,ax=ax[0][1])\n",
    "\n",
    "\n",
    "# Categorical vs Continuous ----Target vs balance\n",
    "#boxplot\n",
    "sns.boxplot(x=\"Target\", y=\"balance\", data=bank_data,ax=ax[1][0])\n",
    "\n",
    "\n",
    "#barplot\n",
    "sns.barplot(x=\"Target\", y=\"balance\", data=bank_data,ax=ax[1][1])\n",
    "\n",
    "plt.subplots_adjust(wspace=0.5)\n",
    "plt.tight_layout()"
   ]
  },
  {
   "cell_type": "code",
   "execution_count": 64,
   "metadata": {},
   "outputs": [
    {
     "ename": "AttributeError",
     "evalue": "module 'matplotlib.pyplot' has no attribute 'layout'",
     "output_type": "error",
     "traceback": [
      "\u001b[1;31m---------------------------------------------------------------------------\u001b[0m",
      "\u001b[1;31mAttributeError\u001b[0m                            Traceback (most recent call last)",
      "\u001b[1;32m<ipython-input-64-41b16165a8c6>\u001b[0m in \u001b[0;36m<module>\u001b[1;34m\u001b[0m\n\u001b[0;32m     12\u001b[0m \u001b[1;33m\u001b[0m\u001b[0m\n\u001b[0;32m     13\u001b[0m \u001b[0mplt\u001b[0m\u001b[1;33m.\u001b[0m\u001b[0msubplots_adjust\u001b[0m\u001b[1;33m(\u001b[0m\u001b[0mwspace\u001b[0m\u001b[1;33m=\u001b[0m\u001b[1;36m0.5\u001b[0m\u001b[1;33m)\u001b[0m\u001b[1;33m\u001b[0m\u001b[1;33m\u001b[0m\u001b[0m\n\u001b[1;32m---> 14\u001b[1;33m \u001b[0mplt\u001b[0m\u001b[1;33m.\u001b[0m\u001b[0mlayout\u001b[0m\u001b[1;33m(\u001b[0m\u001b[1;33m)\u001b[0m\u001b[1;33m\u001b[0m\u001b[1;33m\u001b[0m\u001b[0m\n\u001b[0m",
      "\u001b[1;31mAttributeError\u001b[0m: module 'matplotlib.pyplot' has no attribute 'layout'"
     ]
    },
    {
     "data": {
      "image/png": "[encoded data removed]",
      "text/plain": [
       "<Figure size 720x360 with 1 Axes>"
      ]
     },
     "metadata": {},
     "output_type": "display_data"
    }
   ],
   "source": [
    "# Categorical vs Categorical ----Target vs marital\n",
    "fig, ax1=plt.subplots(1,1,figsize=(10,5))\n",
    "\n",
    "#barplot\n",
    "sns.barplot(x=\"Target\", y=\"marital\", data=bank_data,ax=ax1)\n",
    "\n",
    "plt.subplots_adjust(wspace=0.5)\n",
    "plt.tight_layout() \n",
    "\n",
    "ax2.tick_params(labelsize=15)\n",
    "\n",
    "\n",
    "plt.subplots_adjust(wspace=0.5)\n",
    "plt.layout()"
   ]
  },
  {
   "cell_type": "markdown",
   "metadata": {},
   "source": [
    "# Model Building"
   ]
  },
  {
   "cell_type": "markdown",
   "metadata": {},
   "source": [
    "### Splitting the data"
   ]
  },
  {
   "cell_type": "code",
   "execution_count": 65,
   "metadata": {},
   "outputs": [],
   "source": [
    "#independent and dependent variables\n",
    "X=bank_data.loc[:,bank_data.columns!='Target']\n",
    "y=bank_data.loc[:,bank_data.columns=='Target']"
   ]
  },
  {
   "cell_type": "code",
   "execution_count": 66,
   "metadata": {},
   "outputs": [],
   "source": [
    "# Split X and y into training and test set in 70:30 ratio\n",
    "X_train,X_test,y_train,y_test=train_test_split(X,y,test_size=0.3,random_state=0)\n",
    "columns=X_train.columns"
   ]
  },
  {
   "cell_type": "markdown",
   "metadata": {},
   "source": [
    "#### 1. Decision Tree Model"
   ]
  },
  {
   "cell_type": "code",
   "execution_count": 67,
   "metadata": {},
   "outputs": [
    {
     "data": {
      "text/plain": [
       "DecisionTreeClassifier(class_weight=None, criterion='entropy', max_depth=None,\n",
       "            max_features=None, max_leaf_nodes=None,\n",
       "            min_impurity_decrease=0.0, min_impurity_split=None,\n",
       "            min_samples_leaf=1, min_samples_split=2,\n",
       "            min_weight_fraction_leaf=0.0, presort=False, random_state=100,\n",
       "            splitter='best')"
      ]
     },
     "execution_count": 67,
     "metadata": {},
     "output_type": "execute_result"
    }
   ],
   "source": [
    "# invoking the decision tree classifier function. Using 'entropy' method of finding the split columns. Other option                             \n",
    "dt_model = DecisionTreeClassifier(criterion = 'entropy',random_state=100 )\n",
    "#Fitting the model\n",
    "dt_model.fit(X_train, y_train)"
   ]
  },
  {
   "cell_type": "markdown",
   "metadata": {},
   "source": [
    "##### Visualizing the Tree"
   ]
  },
  {
   "cell_type": "code",
   "execution_count": 72,
   "metadata": {},
   "outputs": [],
   "source": [
    "from sklearn.tree import export_graphviz\n",
    "from sklearn.externals.six import StringIO  \n",
    "from IPython.display import Image  \n",
    "#import pydotplus\n",
    "#import graphviz\n",
    "bank_df=bank_data\n",
    "xvar = bank_df.drop('Target', axis=1)\n",
    "feature_cols = xvar.columns"
   ]
  },
  {
   "cell_type": "code",
   "execution_count": 71,
   "metadata": {},
   "outputs": [
    {
     "ename": "NameError",
     "evalue": "name 'pydotplus' is not defined",
     "output_type": "error",
     "traceback": [
      "\u001b[1;31m---------------------------------------------------------------------------\u001b[0m",
      "\u001b[1;31mNameError\u001b[0m                                 Traceback (most recent call last)",
      "\u001b[1;32m<ipython-input-71-2122e2f05a7c>\u001b[0m in \u001b[0;36m<module>\u001b[1;34m\u001b[0m\n\u001b[0;32m      3\u001b[0m                 \u001b[0mfilled\u001b[0m\u001b[1;33m=\u001b[0m\u001b[1;32mTrue\u001b[0m\u001b[1;33m,\u001b[0m \u001b[0mrounded\u001b[0m\u001b[1;33m=\u001b[0m\u001b[1;32mTrue\u001b[0m\u001b[1;33m,\u001b[0m\u001b[1;33m\u001b[0m\u001b[1;33m\u001b[0m\u001b[0m\n\u001b[0;32m      4\u001b[0m                 special_characters=True,feature_names = feature_cols,class_names=['0','1'])\n\u001b[1;32m----> 5\u001b[1;33m \u001b[0mgraph\u001b[0m \u001b[1;33m=\u001b[0m \u001b[0mpydotplus\u001b[0m\u001b[1;33m.\u001b[0m\u001b[0mgraph_from_dot_data\u001b[0m\u001b[1;33m(\u001b[0m\u001b[0mdot_data\u001b[0m\u001b[1;33m.\u001b[0m\u001b[0mgetvalue\u001b[0m\u001b[1;33m(\u001b[0m\u001b[1;33m)\u001b[0m\u001b[1;33m)\u001b[0m\u001b[1;33m\u001b[0m\u001b[1;33m\u001b[0m\u001b[0m\n\u001b[0m\u001b[0;32m      6\u001b[0m \u001b[0mgraph\u001b[0m\u001b[1;33m.\u001b[0m\u001b[0mwrite_png\u001b[0m\u001b[1;33m(\u001b[0m\u001b[1;34m'bank_data.png'\u001b[0m\u001b[1;33m)\u001b[0m\u001b[1;33m\u001b[0m\u001b[1;33m\u001b[0m\u001b[0m\n\u001b[0;32m      7\u001b[0m \u001b[0mImage\u001b[0m\u001b[1;33m(\u001b[0m\u001b[0mgraph\u001b[0m\u001b[1;33m.\u001b[0m\u001b[0mcreate_png\u001b[0m\u001b[1;33m(\u001b[0m\u001b[1;33m)\u001b[0m\u001b[1;33m)\u001b[0m\u001b[1;33m\u001b[0m\u001b[1;33m\u001b[0m\u001b[0m\n",
      "\u001b[1;31mNameError\u001b[0m: name 'pydotplus' is not defined"
     ]
    }
   ],
   "source": [
    "dot_data = StringIO()\n",
    "export_graphviz(dt_model, out_file=dot_data,  \n",
    "                filled=True, rounded=True,\n",
    "                special_characters=True,feature_names = feature_cols,class_names=['0','1'])\n",
    "graph = pydotplus.graph_from_dot_data(dot_data.getvalue())  \n",
    "graph.write_png('bank_data.png')\n",
    "Image(graph.create_png())"
   ]
  },
  {
   "cell_type": "code",
   "execution_count": 73,
   "metadata": {},
   "outputs": [
    {
     "name": "stdout",
     "output_type": "stream",
     "text": [
      "                Imp\n",
      "age        0.090699\n",
      "job        0.036185\n",
      "marital    0.019029\n",
      "education  0.022046\n",
      "default    0.000869\n",
      "balance    0.102435\n",
      "housing    0.027805\n",
      "loan       0.007143\n",
      "contact    0.056033\n",
      "day        0.086493\n",
      "month      0.103351\n",
      "duration   0.310855\n",
      "campaign   0.032524\n",
      "pdays      0.057438\n",
      "previous   0.016822\n",
      "poutcome   0.030273\n"
     ]
    }
   ],
   "source": [
    "# importance of features in the tree building ( The importance of a feature is computed as the \n",
    "#(normalized) total reduction of the criterion brought by that feature. It is also known as the Gini importance )\n",
    "print (pd.DataFrame(dt_model.feature_importances_, columns = [\"Imp\"], index = X_train.columns))"
   ]
  },
  {
   "cell_type": "code",
   "execution_count": 74,
   "metadata": {},
   "outputs": [],
   "source": [
    "#Making the prediction\n",
    "y_predict = dt_model.predict(X_test)"
   ]
  },
  {
   "cell_type": "code",
   "execution_count": 75,
   "metadata": {},
   "outputs": [
    {
     "name": "stdout",
     "output_type": "stream",
     "text": [
      "Performance on Training data using DT:  1.0\n",
      "Performance on Testing data using DT:  0.8754792096726629\n"
     ]
    }
   ],
   "source": [
    "# performance on train data\n",
    "print('Performance on Training data using DT: ',dt_model.score(X_train , y_train))\n",
    "# performance on test data\n",
    "print('Performance on Testing data using DT: ',dt_model.score(X_test , y_test))"
   ]
  },
  {
   "cell_type": "markdown",
   "metadata": {},
   "source": [
    "There is a overfitting in the model as the dataset is performing 100% accurately in trainnig data. However, the accuracy of the testing data drops."
   ]
  },
  {
   "cell_type": "code",
   "execution_count": 85,
   "metadata": {},
   "outputs": [
    {
     "name": "stdout",
     "output_type": "stream",
     "text": [
      "Accuracy DT:  0.9026835741669124\n",
      "Confusion Matrix DT: \n",
      " [[11570   399]\n",
      " [  921   674]]\n",
      "Classification report DT: \n",
      "               precision    recall  f1-score   support\n",
      "\n",
      "           0       0.93      0.97      0.95     11969\n",
      "           1       0.63      0.42      0.51      1595\n",
      "\n",
      "   micro avg       0.90      0.90      0.90     13564\n",
      "   macro avg       0.78      0.69      0.73     13564\n",
      "weighted avg       0.89      0.90      0.89     13564\n",
      "\n"
     ]
    }
   ],
   "source": [
    "#Evaluate the model using accuracy, confusion metrix, and classification report\n",
    "acc_DT=metrics.accuracy_score(y_test, y_predict)\n",
    "print('Accuracy DT: ',acc_DT)\n",
    "print('Confusion Matrix DT: \\n',metrics.confusion_matrix(y_test, y_predict))\n",
    "print('Classification report DT: \\n',metrics.classification_report(y_test, y_predict))"
   ]
  },
  {
   "cell_type": "markdown",
   "metadata": {},
   "source": [
    "So using Decision Tree Model, we got accuracy of 11854/13564 = 87% and 13% as misclassification error."
   ]
  },
  {
   "cell_type": "code",
   "execution_count": 86,
   "metadata": {},
   "outputs": [
    {
     "data": {
      "text/html": [
       "<div>\n",
       "<style scoped>\n",
       "    .dataframe tbody tr th:only-of-type {\n",
       "        vertical-align: middle;\n",
       "    }\n",
       "\n",
       "    .dataframe tbody tr th {\n",
       "        vertical-align: top;\n",
       "    }\n",
       "\n",
       "    .dataframe thead th {\n",
       "        text-align: right;\n",
       "    }\n",
       "</style>\n",
       "<table border=\"1\" class=\"dataframe\">\n",
       "  <thead>\n",
       "    <tr style=\"text-align: right;\">\n",
       "      <th></th>\n",
       "      <th>Method</th>\n",
       "      <th>accuracy</th>\n",
       "    </tr>\n",
       "  </thead>\n",
       "  <tbody>\n",
       "    <tr>\n",
       "      <th>1</th>\n",
       "      <td>Decision Tree</td>\n",
       "      <td>0.902684</td>\n",
       "    </tr>\n",
       "  </tbody>\n",
       "</table>\n",
       "</div>"
      ],
      "text/plain": [
       "          Method  accuracy\n",
       "1  Decision Tree  0.902684"
      ]
     },
     "execution_count": 86,
     "metadata": {},
     "output_type": "execute_result"
    }
   ],
   "source": [
    "#Store the accuracy results for each model in a dataframe for final comparison\n",
    "results = pd.DataFrame({'Method':['Decision Tree'], 'accuracy': acc_DT},index={'1'})\n",
    "results = results[['Method', 'accuracy']]\n",
    "results"
   ]
  },
  {
   "cell_type": "markdown",
   "metadata": {},
   "source": [
    "### Regularising/Pruning of Decision Tree"
   ]
  },
  {
   "cell_type": "code",
   "execution_count": 89,
   "metadata": {},
   "outputs": [
    {
     "data": {
      "text/plain": [
       "DecisionTreeClassifier(class_weight=None, criterion='entropy', max_depth=7,\n",
       "            max_features=None, max_leaf_nodes=None,\n",
       "            min_impurity_decrease=0.0, min_impurity_split=None,\n",
       "            min_samples_leaf=5, min_samples_split=2,\n",
       "            min_weight_fraction_leaf=0.0, presort=False, random_state=100,\n",
       "            splitter='best')"
      ]
     },
     "execution_count": 89,
     "metadata": {},
     "output_type": "execute_result"
    }
   ],
   "source": [
    "# Regularizing the Decision tree classifier and fitting the model\n",
    "reg_dt_model = DecisionTreeClassifier(criterion = 'entropy', max_depth = 7,random_state=100,min_samples_leaf=5)\n",
    "reg_dt_model.fit(X_train, y_train)"
   ]
  },
  {
   "cell_type": "code",
   "execution_count": 90,
   "metadata": {},
   "outputs": [
    {
     "name": "stdout",
     "output_type": "stream",
     "text": [
      "                Imp\n",
      "age        0.090699\n",
      "job        0.036185\n",
      "marital    0.019029\n",
      "education  0.022046\n",
      "default    0.000869\n",
      "balance    0.102435\n",
      "housing    0.027805\n",
      "loan       0.007143\n",
      "contact    0.056033\n",
      "day        0.086493\n",
      "month      0.103351\n",
      "duration   0.310855\n",
      "campaign   0.032524\n",
      "pdays      0.057438\n",
      "previous   0.016822\n",
      "poutcome   0.030273\n"
     ]
    }
   ],
   "source": [
    "print (pd.DataFrame(dt_model.feature_importances_, columns = [\"Imp\"], index = X_train.columns))"
   ]
  },
  {
   "cell_type": "code",
   "execution_count": 91,
   "metadata": {},
   "outputs": [],
   "source": [
    "y_predict = reg_dt_model.predict(X_test)"
   ]
  },
  {
   "cell_type": "code",
   "execution_count": 92,
   "metadata": {},
   "outputs": [
    {
     "name": "stdout",
     "output_type": "stream",
     "text": [
      "Performance on Training data using  Pruned DT:  0.9089013176604418\n",
      "Performance on Testing data using  Pruned DT:  0.8960483633146564\n"
     ]
    }
   ],
   "source": [
    "# performance on train data\n",
    "print('Performance on Training data using  Pruned DT: ',reg_dt_model.score(X_train , y_train))\n",
    "# performance on test data\n",
    "print('Performance on Testing data using  Pruned DT: ',reg_dt_model.score(X_test , y_test))"
   ]
  },
  {
   "cell_type": "markdown",
   "metadata": {},
   "source": [
    "The Pruned DT model is perfroming well in both training and testing data."
   ]
  },
  {
   "cell_type": "code",
   "execution_count": 93,
   "metadata": {},
   "outputs": [
    {
     "name": "stdout",
     "output_type": "stream",
     "text": [
      "Accuracy Pruned DT: 0.8960483633146564\n",
      "Confusion Matrix Pruned DT: \n",
      " [[11410   559]\n",
      " [  851   744]]\n",
      "Classification report Pruned DT: \n",
      "               precision    recall  f1-score   support\n",
      "\n",
      "           0       0.93      0.95      0.94     11969\n",
      "           1       0.57      0.47      0.51      1595\n",
      "\n",
      "   micro avg       0.90      0.90      0.90     13564\n",
      "   macro avg       0.75      0.71      0.73     13564\n",
      "weighted avg       0.89      0.90      0.89     13564\n",
      "\n"
     ]
    }
   ],
   "source": [
    "#Evaluate the model using accuracy, confusion metrix, and classification report\n",
    "acc_pruned_DT=metrics.accuracy_score(y_test, y_predict)\n",
    "print(\"Accuracy Pruned DT:\",acc_pruned_DT)\n",
    "print('Confusion Matrix Pruned DT: \\n',metrics.confusion_matrix(y_test, y_predict))\n",
    "print('Classification report Pruned DT: \\n',metrics.classification_report(y_test, y_predict))"
   ]
  },
  {
   "cell_type": "code",
   "execution_count": 94,
   "metadata": {},
   "outputs": [
    {
     "data": {
      "text/html": [
       "<div>\n",
       "<style scoped>\n",
       "    .dataframe tbody tr th:only-of-type {\n",
       "        vertical-align: middle;\n",
       "    }\n",
       "\n",
       "    .dataframe tbody tr th {\n",
       "        vertical-align: top;\n",
       "    }\n",
       "\n",
       "    .dataframe thead th {\n",
       "        text-align: right;\n",
       "    }\n",
       "</style>\n",
       "<table border=\"1\" class=\"dataframe\">\n",
       "  <thead>\n",
       "    <tr style=\"text-align: right;\">\n",
       "      <th></th>\n",
       "      <th>Method</th>\n",
       "      <th>accuracy</th>\n",
       "    </tr>\n",
       "  </thead>\n",
       "  <tbody>\n",
       "    <tr>\n",
       "      <th>1</th>\n",
       "      <td>Decision Tree</td>\n",
       "      <td>0.902684</td>\n",
       "    </tr>\n",
       "    <tr>\n",
       "      <th>2</th>\n",
       "      <td>Random Forest</td>\n",
       "      <td>0.902684</td>\n",
       "    </tr>\n",
       "    <tr>\n",
       "      <th>2</th>\n",
       "      <td>Pruned Decision Tree</td>\n",
       "      <td>0.896048</td>\n",
       "    </tr>\n",
       "  </tbody>\n",
       "</table>\n",
       "</div>"
      ],
      "text/plain": [
       "                 Method  accuracy\n",
       "1         Decision Tree  0.902684\n",
       "2         Random Forest  0.902684\n",
       "2  Pruned Decision Tree  0.896048"
      ]
     },
     "execution_count": 94,
     "metadata": {},
     "output_type": "execute_result"
    }
   ],
   "source": [
    "\n",
    "#Store the accuracy results for each model in a dataframe for final comparison\n",
    "tempResultsDf = pd.DataFrame({'Method':['Pruned Decision Tree'], 'accuracy': [acc_pruned_DT]},index={'2'})\n",
    "results = pd.concat([results, tempResultsDf])\n",
    "results = results[['Method', 'accuracy']]\n",
    "results"
   ]
  },
  {
   "cell_type": "markdown",
   "metadata": {},
   "source": [
    "### Random Forest Classifier"
   ]
  },
  {
   "cell_type": "code",
   "execution_count": 76,
   "metadata": {},
   "outputs": [
    {
     "name": "stderr",
     "output_type": "stream",
     "text": [
      "C:\\Users\\abhole\\AppData\\Local\\Continuum\\anaconda3\\lib\\site-packages\\ipykernel_launcher.py:3: DataConversionWarning: A column-vector y was passed when a 1d array was expected. Please change the shape of y to (n_samples,), for example using ravel().\n",
      "  This is separate from the ipykernel package so we can avoid doing imports until\n"
     ]
    }
   ],
   "source": [
    "from sklearn.ensemble import RandomForestClassifier\n",
    "rfcl = RandomForestClassifier(n_estimators = 50,random_state=100)\n",
    "rfcl = rfcl.fit(X_train, y_train)"
   ]
  },
  {
   "cell_type": "code",
   "execution_count": 77,
   "metadata": {},
   "outputs": [
    {
     "name": "stdout",
     "output_type": "stream",
     "text": [
      "Accuracy using Random forest:  0.9026835741669124\n",
      "Confusion Matrix Random Forest: \n",
      " [[11570   399]\n",
      " [  921   674]]\n"
     ]
    }
   ],
   "source": [
    "y_predict = rfcl.predict(X_test)\n",
    "acc_RF=metrics.accuracy_score(y_test , y_predict)\n",
    "print('Accuracy using Random forest: ',acc_RF)\n",
    "print('Confusion Matrix Random Forest: \\n',metrics.confusion_matrix(y_test, y_predict))"
   ]
  },
  {
   "cell_type": "code",
   "execution_count": 95,
   "metadata": {},
   "outputs": [
    {
     "data": {
      "text/html": [
       "<div>\n",
       "<style scoped>\n",
       "    .dataframe tbody tr th:only-of-type {\n",
       "        vertical-align: middle;\n",
       "    }\n",
       "\n",
       "    .dataframe tbody tr th {\n",
       "        vertical-align: top;\n",
       "    }\n",
       "\n",
       "    .dataframe thead th {\n",
       "        text-align: right;\n",
       "    }\n",
       "</style>\n",
       "<table border=\"1\" class=\"dataframe\">\n",
       "  <thead>\n",
       "    <tr style=\"text-align: right;\">\n",
       "      <th></th>\n",
       "      <th>Method</th>\n",
       "      <th>accuracy</th>\n",
       "    </tr>\n",
       "  </thead>\n",
       "  <tbody>\n",
       "    <tr>\n",
       "      <th>1</th>\n",
       "      <td>Decision Tree</td>\n",
       "      <td>0.902684</td>\n",
       "    </tr>\n",
       "    <tr>\n",
       "      <th>2</th>\n",
       "      <td>Random Forest</td>\n",
       "      <td>0.902684</td>\n",
       "    </tr>\n",
       "    <tr>\n",
       "      <th>2</th>\n",
       "      <td>Pruned Decision Tree</td>\n",
       "      <td>0.896048</td>\n",
       "    </tr>\n",
       "    <tr>\n",
       "      <th>3</th>\n",
       "      <td>Random Forest</td>\n",
       "      <td>0.902684</td>\n",
       "    </tr>\n",
       "  </tbody>\n",
       "</table>\n",
       "</div>"
      ],
      "text/plain": [
       "                 Method  accuracy\n",
       "1         Decision Tree  0.902684\n",
       "2         Random Forest  0.902684\n",
       "2  Pruned Decision Tree  0.896048\n",
       "3         Random Forest  0.902684"
      ]
     },
     "execution_count": 95,
     "metadata": {},
     "output_type": "execute_result"
    }
   ],
   "source": [
    "\n",
    "tempResultsDf = pd.DataFrame({'Method':['Random Forest'], 'accuracy': [acc_RF]},index={'3'})\n",
    "results = pd.concat([results, tempResultsDf])\n",
    "results = results[['Method', 'accuracy']]\n",
    "results\n"
   ]
  },
  {
   "cell_type": "markdown",
   "metadata": {},
   "source": [
    "Compared to the decision tree, we can see that the accuracy is same for decision tree and Random forest model."
   ]
  },
  {
   "cell_type": "markdown",
   "metadata": {},
   "source": [
    "ALl these models giving the highest accuracy. But these models will be biased towards the customers who do not have subscribed term deposit as there are 39922 customers who do not have subscribed term deposit. There are only 5289 customers who have subscribed term deposit. So, these models are biased."
   ]
  },
  {
   "cell_type": "markdown",
   "metadata": {},
   "source": [
    "## Model Building: normalizing the columns\n"
   ]
  },
  {
   "cell_type": "code",
   "execution_count": 97,
   "metadata": {},
   "outputs": [],
   "source": [
    "#independent and dependent variables\n",
    "bank_new=bank_data\n",
    "X=bank_new.loc[:,bank_new.columns!='Target']\n",
    "y=bank_new.loc[:,bank_new.columns=='Target']\n"
   ]
  },
  {
   "cell_type": "code",
   "execution_count": 98,
   "metadata": {},
   "outputs": [],
   "source": [
    "# Split X and y into training and test set in 70:30 ratio\n",
    "X_train,X_test,y_train,y_test=train_test_split(X,y,test_size=0.3,random_state=0)\n",
    "columns=X_train.columns"
   ]
  },
  {
   "cell_type": "code",
   "execution_count": 99,
   "metadata": {},
   "outputs": [
    {
     "name": "stderr",
     "output_type": "stream",
     "text": [
      "C:\\Users\\abhole\\AppData\\Local\\Continuum\\anaconda3\\lib\\site-packages\\sklearn\\preprocessing\\data.py:645: DataConversionWarning: Data with input dtype int32, int64 were all converted to float64 by StandardScaler.\n",
      "  return self.partial_fit(X, y)\n",
      "C:\\Users\\abhole\\AppData\\Local\\Continuum\\anaconda3\\lib\\site-packages\\ipykernel_launcher.py:5: DataConversionWarning: Data with input dtype int32, int64 were all converted to float64 by StandardScaler.\n",
      "  \"\"\"\n",
      "C:\\Users\\abhole\\AppData\\Local\\Continuum\\anaconda3\\lib\\site-packages\\ipykernel_launcher.py:6: DataConversionWarning: Data with input dtype int32, int64 were all converted to float64 by StandardScaler.\n",
      "  \n"
     ]
    }
   ],
   "source": [
    "#for normalization\n",
    "from sklearn.preprocessing import StandardScaler\n",
    "scaler=StandardScaler()\n",
    "scaler.fit(X_train)\n",
    "X_train = scaler.transform(X_train)\n",
    "X_test = scaler.transform(X_test)"
   ]
  },
  {
   "cell_type": "code",
   "execution_count": null,
   "metadata": {},
   "outputs": [],
   "source": []
  }
 ],
 "metadata": {
  "celltoolbar": "Raw Cell Format",
  "kernelspec": {
   "display_name": "Python 3",
   "language": "python",
   "name": "python3"
  },
  "language_info": {
   "codemirror_mode": {
    "name": "ipython",
    "version": 3
   },
   "file_extension": ".py",
   "mimetype": "text/x-python",
   "name": "python",
   "nbconvert_exporter": "python",
   "pygments_lexer": "ipython3",
   "version": "3.7.3"
  }
 },
 "nbformat": 4,
 "nbformat_minor": 2
}
